{
  "cells": [
    {
      "cell_type": "code",
      "execution_count": 1,
      "metadata": {
        "colab": {
          "base_uri": "https://localhost:8080/"
        },
        "id": "thjJGk78n0ag",
        "outputId": "d74d36e7-1c1c-4ffb-dd35-4b80b6d6bc5a"
      },
      "outputs": [
        {
          "name": "stdout",
          "output_type": "stream",
          "text": [
            "Requirement already satisfied: requests in /home/esoteric/anaconda3/envs/anzaetek/lib/python3.10/site-packages (2.31.0)\n",
            "Requirement already satisfied: charset-normalizer<4,>=2 in /home/esoteric/anaconda3/envs/anzaetek/lib/python3.10/site-packages (from requests) (3.3.2)\n",
            "Requirement already satisfied: idna<4,>=2.5 in /home/esoteric/anaconda3/envs/anzaetek/lib/python3.10/site-packages (from requests) (3.6)\n",
            "Requirement already satisfied: urllib3<3,>=1.21.1 in /home/esoteric/anaconda3/envs/anzaetek/lib/python3.10/site-packages (from requests) (2.1.0)\n",
            "Requirement already satisfied: certifi>=2017.4.17 in /home/esoteric/anaconda3/envs/anzaetek/lib/python3.10/site-packages (from requests) (2023.11.17)\n"
          ]
        }
      ],
      "source": [
        "import sys\n",
        "!{sys.executable} -m pip install requests"
      ]
    },
    {
      "cell_type": "code",
      "execution_count": 2,
      "metadata": {
        "id": "VGL_B2u6rHQ5"
      },
      "outputs": [],
      "source": [
        "import requests\n",
        "import time\n",
        "import numpy as np"
      ]
    },
    {
      "cell_type": "code",
      "execution_count": 3,
      "metadata": {
        "id": "btbGf5J2oaIe"
      },
      "outputs": [],
      "source": [
        "# GET THE CONFIG\n",
        "try:\n",
        "  import utilsg\n",
        "  API_USER = utilsg.getenvcached(\"API_USER\")\n",
        "  API_PASSWORD = utilsg.getenvcached(\"API_PASSWORD\")\n",
        "except:\n",
        "  API_USER = \"\"\n",
        "  API_PASSWORD =\"\""
      ]
    },
    {
      "cell_type": "code",
      "execution_count": 4,
      "metadata": {
        "id": "inG_0814q1U-"
      },
      "outputs": [],
      "source": [
        "BASE_URL = \"https://qubo.belgrade.maxeler.com\"\n",
        "JOB_STATUS_QUERY_INTERVAL = 5  # how often to query for job status updates - 5 seconds\n",
        "\n",
        "# Function to submit a job\n",
        "def submit_job(\n",
        "    assets, budget, risk_aversion, h0, Lh, Uh, Tmin, Tmax, psi, zeta, use_milp=False):\n",
        "    url = f\"{BASE_URL}/api/v1/portfolio_optimization/submit_job\"\n",
        "\n",
        "    print(url)\n",
        "    assets = assets.tolist() if isinstance(assets, np.ndarray) else assets\n",
        "    Lh = Lh.tolist() if isinstance(Lh, np.ndarray) else Lh\n",
        "    Uh = Uh.tolist() if isinstance(Uh, np.ndarray) else Uh\n",
        "    data = {\n",
        "        \"assets\": assets,                # list of asset labels\n",
        "        \"budget\": budget,                # the total budged of the portfolio: stock weigths x price list\n",
        "        \"risk_aversion\": risk_aversion,  # = lambda in Eq (1)\n",
        "        \"h0\": h0,      # initial weigths in the portfolio\n",
        "        \"Lh\": Lh,      # measured in the number of stocks, Eq (4)\n",
        "        \"Uh\": Uh,      # measured in the number of stocks, Eq (4)\n",
        "        \"Tmin\": Tmin,  # measured in the number of stocks, Eq(6)\n",
        "        \"Tmax\": Tmax,  # measured in the number of stocks, Eq(6)\n",
        "        \"psi\": psi,    # measured in price of the changed stocks, Eq (7a)\n",
        "        \"zeta\": zeta,  # measured in price of the changed stocks, Eq (7b)\n",
        "        \"use_milp\": use_milp, # experimental input: set to false to solve PO woth MILP, or False to use QUBO\n",
        "    }\n",
        "    response = requests.post(url, json=data, auth=(API_USER, API_PASSWORD))\n",
        "    # print(f\"Response status code: {response.status_code}\")\n",
        "    # print(f\"Response text: {response.text}\")\n",
        "    if response.status_code == 201:\n",
        "        return response.json()[\"job_id\"]\n",
        "    else:\n",
        "        print(\"Failed to submit job\")\n",
        "        print(response.json())\n",
        "        return None\n"
      ]
    },
    {
      "cell_type": "code",
      "execution_count": 5,
      "metadata": {
        "id": "2bgol3Mbq7Mv"
      },
      "outputs": [],
      "source": [
        "# Function to query job status\n",
        "def query_job_status(job_id):\n",
        "    url = f\"{BASE_URL}/api/v1/job_status/{job_id}\"\n",
        "    response = requests.get(url, auth=(API_USER, API_PASSWORD))\n",
        "    if response.status_code == 200:\n",
        "        return response.json()\n",
        "    else:\n",
        "        print(\"Failed to query job status\")\n",
        "        print(response.json())\n",
        "        return None\n",
        "\n",
        "# Function to display the result\n",
        "def print_out_result(result, initial_weights):\n",
        "    print(\"{:^8} | {:^15} | {:^15} | {:^15}\".format(\n",
        "        \"Asset\", \"Num of Stocks\", \"Stock Price\", \"Initial num of stocks\"))\n",
        "    print(\"-\" * 62)\n",
        "\n",
        "    total_price = 0\n",
        "    for asset, data in result.items():\n",
        "        num_stocks, stock_price = data.values()\n",
        "        initial_stocks          = initial_weights.get( asset, 0 )\n",
        "        print(\"{:^8} | {:^15} | {:^15.3f} | {:^15} \".format(\n",
        "            asset, num_stocks, stock_price, initial_stocks))\n",
        "\n",
        "        total_price = total_price + num_stocks*stock_price\n",
        "\n",
        "    print(\"Total price of the assets: \", total_price)\n",
        "\n"
      ]
    },
    {
      "cell_type": "code",
      "execution_count": 6,
      "metadata": {
        "id": "9r4tFWKCrXpX"
      },
      "outputs": [],
      "source": [
        "def run():\n",
        "\n",
        "    # Job parameters\n",
        "    assets25 = [\n",
        "        \"AAPL\",\n",
        "        \"MSFT\",\n",
        "        \"AMZN\",\n",
        "        \"NVDA\",\n",
        "        \"GOOGL\",\n",
        "        \"TSLA\",\n",
        "        \"GOOG\",\n",
        "        \"BRK-B\",\n",
        "        \"META\",\n",
        "        \"UNH\",\n",
        "        \"XOM\",\n",
        "        \"LLY\",\n",
        "        \"JPM\",\n",
        "        \"JNJ\",\n",
        "        \"V\",\n",
        "        \"PG\",\n",
        "        \"MA\",\n",
        "        \"AVGO\",\n",
        "        \"HD\",\n",
        "        \"CVX\",\n",
        "        \"MRK\",\n",
        "        \"ABBV\",\n",
        "        \"COST\",\n",
        "        \"PEP\",\n",
        "        \"ADBE\",\n",
        "    ]\n",
        "\n",
        "    # initial weights\n",
        "    weights_dict = {\n",
        "        \"AAPL\": 27, \"MSFT\": 0, \"AMZN\": 0, \"NVDA\": 140, \"GOOGL\": 0,\n",
        "        \"TSLA\": 0, \"GOOG\": 0, \"BRK-B\": 361, \"META\": 0, \"UNH\": 0,\n",
        "        \"XOM\": 0, \"LLY\": 16, \"JPM\": 0, \"JNJ\": 0, \"V\": 19,\n",
        "        \"PG\": 0, \"MA\": 0, \"AVGO\": 0, \"HD\": 0, \"CVX\": 0,\n",
        "        \"MRK\": 41, \"ABBV\": 235, \"COST\": 159, \"PEP\": 30, \"ADBE\": 0\n",
        "    }\n",
        "\n",
        "    assets = assets25\n",
        "\n",
        "    weights_list = [weights_dict[asset] for asset in assets]\n",
        "\n",
        "\n",
        "\n",
        "    # mathematical model behind portfolio optimization is described in https://papers.ssrn.com/sol3/papers.cfm?abstract_id=1823627&download=yes\n",
        "    budget = 504055\n",
        "    risk_aversion = 0.9 \t\t\t\t# = lambda in Eq (1)\n",
        "\n",
        "    h0 = weights_list\t\t\t\t\t# initial weigths in the portfolio\n",
        "\n",
        "    Lh = 0 \t\t\t\t\t\t# measured in the number of stocks, Eq (4)\n",
        "    Uh = 400 * np.ones((len(assets),), dtype=np.int64) \t# measured in the number of stocks, Eq (4)\n",
        "    Tmin = 2 \t\t# measured in the number of stocks, Eq(6)\n",
        "    Tmax = 6\t\t# measured in the number of stocks, Eq(6)\n",
        "    psi = 5000 \t\t# measured in price of the changed stocks, Eq (7a)\n",
        "    zeta = 13328 \t# measured in price of the changed stocks, Eq (7b)\n",
        "\n",
        "    # Submit the job\n",
        "    job_id = submit_job(\n",
        "        assets,\n",
        "        budget,\n",
        "        risk_aversion,\n",
        "        h0,\n",
        "        Lh,\n",
        "        Uh,\n",
        "        Tmin,\n",
        "        Tmax,\n",
        "        psi,\n",
        "        zeta\n",
        "    )\n",
        "    if not job_id:\n",
        "        return\n",
        "\n",
        "    print(\"Job submitted successfully. Job ID:\", job_id)\n",
        "    # Query job status every 5 seconds until it's completed\n",
        "    while True:\n",
        "        status = query_job_status(job_id)\n",
        "        if not status:\n",
        "            break\n",
        "        sys.stdout.write(f\"\\rJob Status: {status['status']}\")\n",
        "        if status[\"status\"] in [\"SUCCESS\", \"FAILURE\"]:\n",
        "            print(\"\\nResult:\")\n",
        "            result = status[\"result_list\"]\n",
        "            print_out_result(result, weights_dict)\n",
        "            break\n",
        "        time.sleep(JOB_STATUS_QUERY_INTERVAL)\n"
      ]
    },
    {
      "cell_type": "code",
      "execution_count": 7,
      "metadata": {
        "colab": {
          "base_uri": "https://localhost:8080/"
        },
        "id": "2T6JR8qArax0",
        "outputId": "4721072f-40fa-4ea0-8f1a-4eff1a544994"
      },
      "outputs": [
        {
          "name": "stdout",
          "output_type": "stream",
          "text": [
            "https://qubo.belgrade.maxeler.com/api/v1/portfolio_optimization/submit_job\n",
            "Job submitted successfully. Job ID: 41a6a0e1-cb9b-4f07-907c-8d730b55dffd\n",
            "Job Status: SUCCESS\n",
            "Result:\n",
            " Asset   |  Num of Stocks  |   Stock Price   | Initial num of stocks\n",
            "--------------------------------------------------------------\n",
            "  AAPL   |       95        |     212.490     |       27        \n",
            "  MSFT   |        0        |     442.570     |        0        \n",
            "  AMZN   |        0        |     183.660     |        0        \n",
            "  NVDA   |       140       |     131.880     |       140       \n",
            " GOOGL   |        0        |     176.790     |        0        \n",
            "  TSLA   |        0        |     178.010     |        0        \n",
            "  GOOG   |        0        |     178.370     |        0        \n",
            " BRK-B   |       101       |     405.540     |       361       \n",
            "  META   |       55        |     504.160     |        0        \n",
            "  UNH    |        0        |     497.120     |        0        \n",
            "  XOM    |        0        |     109.110     |        0        \n",
            "  LLY    |       16        |     878.450     |       16        \n",
            "  JPM    |        0        |     193.780     |        0        \n",
            "  JNJ    |        0        |     145.540     |        0        \n",
            "   V     |       68        |     270.660     |       19        \n",
            "   PG    |        0        |     166.790     |        0        \n",
            "   MA    |        0        |     444.630     |        0        \n",
            "  AVGO   |        0        |    1735.040     |        0        \n",
            "   HD    |        0        |     346.840     |        0        \n",
            "  CVX    |        0        |     152.570     |        0        \n",
            "  MRK    |       41        |     129.480     |       41        \n",
            "  ABBV   |       235       |     168.590     |       235       \n",
            "  COST   |       364       |     855.670     |       159       \n",
            "  PEP    |       33        |     163.810     |       30        \n",
            "  ADBE   |        0        |     525.310     |        0        \n",
            "Total price of the assets:  501595.10537719727\n"
          ]
        }
      ],
      "source": [
        "run()"
      ]
    }
  ],
  "metadata": {
    "colab": {
      "provenance": []
    },
    "kernelspec": {
      "display_name": "Python 3",
      "name": "python3"
    },
    "language_info": {
      "codemirror_mode": {
        "name": "ipython",
        "version": 3
      },
      "file_extension": ".py",
      "mimetype": "text/x-python",
      "name": "python",
      "nbconvert_exporter": "python",
      "pygments_lexer": "ipython3",
      "version": "3.10.0"
    }
  },
  "nbformat": 4,
  "nbformat_minor": 0
}
