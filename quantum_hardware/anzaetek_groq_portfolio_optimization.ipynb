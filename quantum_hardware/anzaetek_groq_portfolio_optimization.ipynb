{
  "cells": [
    {
      "cell_type": "code",
      "execution_count": 1,
      "metadata": {
        "colab": {
          "base_uri": "https://localhost:8080/"
        },
        "id": "thjJGk78n0ag",
        "outputId": "d788226a-384e-42f5-d474-eca0f6d035a5"
      },
      "outputs": [
        {
          "name": "stdout",
          "output_type": "stream",
          "text": [
            "Requirement already satisfied: requests in /home/esoteric/anaconda3/envs/anzaetek/lib/python3.10/site-packages (2.31.0)\n",
            "Requirement already satisfied: charset-normalizer<4,>=2 in /home/esoteric/anaconda3/envs/anzaetek/lib/python3.10/site-packages (from requests) (3.3.2)\n",
            "Requirement already satisfied: idna<4,>=2.5 in /home/esoteric/anaconda3/envs/anzaetek/lib/python3.10/site-packages (from requests) (3.6)\n",
            "Requirement already satisfied: urllib3<3,>=1.21.1 in /home/esoteric/anaconda3/envs/anzaetek/lib/python3.10/site-packages (from requests) (2.1.0)\n",
            "Requirement already satisfied: certifi>=2017.4.17 in /home/esoteric/anaconda3/envs/anzaetek/lib/python3.10/site-packages (from requests) (2023.11.17)\n"
          ]
        }
      ],
      "source": [
        "import sys\n",
        "!{sys.executable} -m pip install requests"
      ]
    },
    {
      "cell_type": "code",
      "execution_count": 2,
      "metadata": {
        "id": "VGL_B2u6rHQ5"
      },
      "outputs": [],
      "source": [
        "import requests\n",
        "import time\n",
        "import numpy as np"
      ]
    },
    {
      "cell_type": "code",
      "execution_count": 3,
      "metadata": {
        "id": "btbGf5J2oaIe"
      },
      "outputs": [],
      "source": [
        "# GET THE CONFIG\n",
        "try:\n",
        "  import utilsg\n",
        "  API_USER = utilsg.getenvcached(\"API_USER\")\n",
        "  API_PASSWORD = utilsg.getenvcached(\"API_PASSWORD\")\n",
        "except:\n",
        "  API_USER = \"\"\n",
        "  API_PASSWORD =\"\""
      ]
    },
    {
      "cell_type": "code",
      "execution_count": 4,
      "metadata": {
        "id": "inG_0814q1U-"
      },
      "outputs": [],
      "source": [
        "BASE_URL = \"https://qubo.belgrade.maxeler.com\"\n",
        "JOB_STATUS_QUERY_INTERVAL = 5  # how often to query for job status updates - 5 seconds\n",
        "\n",
        "# Function to submit a job\n",
        "def submit_job(\n",
        "    assets, budget, risk_aversion, Lh, Uh, Kmin, Kmax, psi, zeta, use_milp=False):\n",
        "    url = f\"{BASE_URL}/api/v1/portfolio_optimization/submit_job\"\n",
        "\n",
        "\n",
        "    h0 = [0] * len(assets)\n",
        "\n",
        "    assets = assets.tolist() if isinstance(assets, np.ndarray) else assets\n",
        "    Lh = Lh.tolist() if isinstance(Lh, np.ndarray) else Lh\n",
        "    Uh = Uh.tolist() if isinstance(Uh, np.ndarray) else Uh\n",
        "\n",
        "\n",
        "\n",
        "\n",
        "    data = {\n",
        "        \"assets\": assets,                # list of asset labels\n",
        "        \"budget\": budget,                # the total budged of the portfolio: stock weigths x price list\n",
        "        \"risk_aversion\": risk_aversion,  # = lambda in Eq (1)\n",
        "        \"h0\": h0,      # initial weigths in the portfolio\n",
        "        \"Lh\": Lh,      # measured in the number of stocks, Eq (4)\n",
        "        \"Uh\": Uh,      # measured in the number of stocks, Eq (4)\n",
        "        \"Kmin\": Kmin,  # measured in the number of stocks, Eq(5)\n",
        "        \"Kmax\": Kmax,  # measured in the number of stocks, Eq(5)\n",
        "        \"psi\": psi,    # measured in price of the changed stocks, Eq (7a)\n",
        "        \"zeta\": zeta,  # measured in price of the changed stocks, Eq (7b)\n",
        "        \"use_milp\": use_milp, # experimental input: set to false to solve PO woth MILP, or False to use QUBO\n",
        "    }\n",
        "\n",
        "    response = requests.post(url, json=data, auth=(API_USER, API_PASSWORD))\n",
        "    # print(f\"Response status code: {response.status_code}\")\n",
        "    # print(f\"Response text: {response.text}\")\n",
        "    if response.status_code == 201:\n",
        "        return response.json()[\"job_id\"]\n",
        "    else:\n",
        "        print(\"Failed to submit job\")\n",
        "        print(response.json())\n",
        "        return None\n",
        "\n"
      ]
    },
    {
      "cell_type": "code",
      "execution_count": 5,
      "metadata": {
        "id": "2bgol3Mbq7Mv"
      },
      "outputs": [],
      "source": [
        "# Function to query job status\n",
        "def query_job_status(job_id):\n",
        "    url = f\"{BASE_URL}/api/v1/job_status/{job_id}\"\n",
        "    response = requests.get(url, auth=(API_USER, API_PASSWORD))\n",
        "    if response.status_code == 200:\n",
        "        return response.json()\n",
        "    else:\n",
        "        print(\"Failed to query job status\")\n",
        "        print(response.json())\n",
        "        return None\n",
        "\n",
        "\n",
        "def print_out_result(result):\n",
        "    print(\"{:^8} | {:^15} | {:^15}\".format(\"Asset\", \"Num Stocks\", \"Stock Price\"))\n",
        "    print(\"-\" * 42)\n",
        "\n",
        "    total_price = 0\n",
        "    for asset, data in result.items():\n",
        "        num_stocks, stock_price = data.values()\n",
        "        print(\"{:^8} | {:^15} | {:^15.3f}\".format(asset, num_stocks, stock_price))\n",
        "\n",
        "        total_price = total_price + num_stocks*stock_price\n",
        "\n",
        "    print(\"Total price of the assets: \", total_price)\n"
      ]
    },
    {
      "cell_type": "code",
      "execution_count": 6,
      "metadata": {
        "id": "9r4tFWKCrXpX"
      },
      "outputs": [],
      "source": [
        "def run():\n",
        "\n",
        "    # Job parameters\n",
        "    assets25 = [\n",
        "        \"AAPL\",\n",
        "        \"MSFT\",\n",
        "        \"AMZN\",\n",
        "        \"NVDA\",\n",
        "        \"GOOGL\",\n",
        "        \"TSLA\",\n",
        "        \"GOOG\",\n",
        "        \"BRK-B\",\n",
        "        \"META\",\n",
        "        \"UNH\",\n",
        "        \"XOM\",\n",
        "        \"LLY\",\n",
        "        \"JPM\",\n",
        "        \"JNJ\",\n",
        "        \"V\",\n",
        "        \"PG\",\n",
        "        \"MA\",\n",
        "        \"AVGO\",\n",
        "        \"HD\",\n",
        "        \"CVX\",\n",
        "        \"MRK\",\n",
        "        \"ABBV\",\n",
        "        \"COST\",\n",
        "        \"PEP\",\n",
        "        \"ADBE\",\n",
        "    ]\n",
        "\n",
        "    assets = assets25\n",
        "\n",
        "    budget = 504055\n",
        "    risk_aversion = 0.9                              # = lambda in Eq (1)\n",
        "\n",
        "    Lh = 0 \t\t\t\t\t\t# measured in the number of stocks, Eq (4)\n",
        "    Uh = 400 * np.ones((len(assets),), dtype=np.int64) \t# measured in the number of stocks, Eq (4)\n",
        "\n",
        "    Kmin = 5           # measured in the number of stocks, Eq5)\n",
        "    Kmax = 10          # measured in the number of stocks, Eq5)\n",
        "    psi = 5000         # measured in price of the changed stocks, Eq (7a)\n",
        "    zeta = 0           # measured in price of the changed stocks, Eq (7b)\n",
        "\n",
        "\n",
        "    # Submit the job\n",
        "    job_id = submit_job(\n",
        "        assets,\n",
        "        budget,\n",
        "        risk_aversion,\n",
        "        Lh,\n",
        "        Uh,\n",
        "        Kmin,\n",
        "        Kmax,\n",
        "        psi,\n",
        "        zeta,\n",
        "    )\n",
        "    if not job_id:\n",
        "        return\n",
        "\n",
        "    print(\"Job submitted successfully. Job ID:\", job_id)\n",
        "    # Query job status every 5 seconds until it's completed\n",
        "    while True:\n",
        "        status = query_job_status(job_id)\n",
        "        if not status:\n",
        "            break\n",
        "        sys.stdout.write(f\"\\rJob Status: {status['status']}\")\n",
        "        if status[\"status\"] == \"SUCCESS\":\n",
        "            print(\"\\nResult:\")\n",
        "            result = status[\"result_list\"]\n",
        "            print_out_result(result)\n",
        "            break\n",
        "        elif status[\"status\"] == \"FAILURE\":\n",
        "            print(f\"\\n{status['result_list']}\")\n",
        "            break\n",
        "        time.sleep(JOB_STATUS_QUERY_INTERVAL)\n"
      ]
    },
    {
      "cell_type": "code",
      "execution_count": 7,
      "metadata": {
        "colab": {
          "base_uri": "https://localhost:8080/"
        },
        "id": "2T6JR8qArax0",
        "outputId": "af6d78dc-ba5a-46ef-f561-6893e67772af"
      },
      "outputs": [
        {
          "name": "stdout",
          "output_type": "stream",
          "text": [
            "Job submitted successfully. Job ID: ae3cb04e-c4cf-44f9-ab7b-c5d39cd54218\n",
            "Job Status: SUCCESS\n",
            "Result:\n",
            " Asset   |   Num Stocks    |   Stock Price  \n",
            "------------------------------------------\n",
            "  AAPL   |       37        |     212.490    \n",
            "  MSFT   |        0        |     442.570    \n",
            "  AMZN   |        0        |     183.660    \n",
            "  NVDA   |       45        |     131.880    \n",
            " GOOGL   |       34        |     176.790    \n",
            "  TSLA   |        0        |     178.010    \n",
            "  GOOG   |        0        |     178.370    \n",
            " BRK-B   |        0        |     405.540    \n",
            "  META   |        0        |     504.160    \n",
            "  UNH    |       23        |     497.120    \n",
            "  XOM    |        0        |     109.110    \n",
            "  LLY    |       99        |     878.450    \n",
            "  JPM    |       26        |     193.780    \n",
            "  JNJ    |       37        |     145.540    \n",
            "   V     |        0        |     270.660    \n",
            "   PG    |        0        |     166.790    \n",
            "   MA    |        0        |     444.630    \n",
            "  AVGO   |       29        |    1735.040    \n",
            "   HD    |       33        |     346.840    \n",
            "  CVX    |        0        |     152.570    \n",
            "  MRK    |        0        |     129.480    \n",
            "  ABBV   |        0        |     168.590    \n",
            "  COST   |       366       |     855.670    \n",
            "  PEP    |        0        |     163.810    \n",
            "  ADBE   |        0        |     525.310    \n",
            "Total price of the assets:  503568.25576782227\n"
          ]
        }
      ],
      "source": [
        "run()"
      ]
    }
  ],
  "metadata": {
    "colab": {
      "provenance": []
    },
    "kernelspec": {
      "display_name": "Python 3",
      "name": "python3"
    },
    "language_info": {
      "codemirror_mode": {
        "name": "ipython",
        "version": 3
      },
      "file_extension": ".py",
      "mimetype": "text/x-python",
      "name": "python",
      "nbconvert_exporter": "python",
      "pygments_lexer": "ipython3",
      "version": "3.10.0"
    }
  },
  "nbformat": 4,
  "nbformat_minor": 0
}
