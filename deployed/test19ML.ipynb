{
 "cells": [
  {
   "cell_type": "code",
   "execution_count": 1,
   "metadata": {},
   "outputs": [
    {
     "name": "stdout",
     "output_type": "stream",
     "text": [
      "Requirement already satisfied: charset-normalizer in /home/esoteric/anaconda3/envs/fujitsu/lib/python3.10/site-packages (3.2.0)\n",
      "Requirement already satisfied: dataclasses in /home/esoteric/anaconda3/envs/fujitsu/lib/python3.10/site-packages (0.6)\n",
      "Requirement already satisfied: dataclasses-serialization in /home/esoteric/anaconda3/envs/fujitsu/lib/python3.10/site-packages (1.3.1)\n",
      "Requirement already satisfied: dataclasses in /home/esoteric/anaconda3/envs/fujitsu/lib/python3.10/site-packages (from dataclasses-serialization) (0.6)\n",
      "Requirement already satisfied: more-properties>=1.1.0 in /home/esoteric/anaconda3/envs/fujitsu/lib/python3.10/site-packages (from dataclasses-serialization) (1.1.1)\n",
      "Requirement already satisfied: typing-inspect in /home/esoteric/anaconda3/envs/fujitsu/lib/python3.10/site-packages (from dataclasses-serialization) (0.8.0)\n",
      "Requirement already satisfied: toolz in /home/esoteric/anaconda3/envs/fujitsu/lib/python3.10/site-packages (from dataclasses-serialization) (0.12.0)\n",
      "Requirement already satisfied: toposort in /home/esoteric/anaconda3/envs/fujitsu/lib/python3.10/site-packages (from dataclasses-serialization) (1.10)\n",
      "Requirement already satisfied: mypy-extensions>=0.3.0 in /home/esoteric/anaconda3/envs/fujitsu/lib/python3.10/site-packages (from typing-inspect->dataclasses-serialization) (1.0.0)\n",
      "Requirement already satisfied: typing-extensions>=3.7.4 in /home/esoteric/anaconda3/envs/fujitsu/lib/python3.10/site-packages (from typing-inspect->dataclasses-serialization) (4.7.1)\n",
      "Requirement already satisfied: idna in /home/esoteric/anaconda3/envs/fujitsu/lib/python3.10/site-packages (3.4)\n",
      "Requirement already satisfied: lxml in /home/esoteric/anaconda3/envs/fujitsu/lib/python3.10/site-packages (4.9.4)\n",
      "Requirement already satisfied: more-properties in /home/esoteric/anaconda3/envs/fujitsu/lib/python3.10/site-packages (1.1.1)\n",
      "Requirement already satisfied: dataclasses in /home/esoteric/anaconda3/envs/fujitsu/lib/python3.10/site-packages (from more-properties) (0.6)\n",
      "Requirement already satisfied: mypy-extensions in /home/esoteric/anaconda3/envs/fujitsu/lib/python3.10/site-packages (1.0.0)\n",
      "Requirement already satisfied: numpy in /home/esoteric/anaconda3/envs/fujitsu/lib/python3.10/site-packages (1.23.5)\n",
      "Requirement already satisfied: orjson in /home/esoteric/anaconda3/envs/fujitsu/lib/python3.10/site-packages (3.8.10)\n",
      "Requirement already satisfied: psutil in /home/esoteric/anaconda3/envs/fujitsu/lib/python3.10/site-packages/psutil-5.9.5-py3.10-linux-x86_64.egg (5.9.5)\n",
      "Requirement already satisfied: requests in /home/esoteric/anaconda3/envs/fujitsu/lib/python3.10/site-packages (2.31.0)\n",
      "Requirement already satisfied: charset-normalizer<4,>=2 in /home/esoteric/anaconda3/envs/fujitsu/lib/python3.10/site-packages (from requests) (3.2.0)\n",
      "Requirement already satisfied: idna<4,>=2.5 in /home/esoteric/anaconda3/envs/fujitsu/lib/python3.10/site-packages (from requests) (3.4)\n",
      "Requirement already satisfied: urllib3<3,>=1.21.1 in /home/esoteric/anaconda3/envs/fujitsu/lib/python3.10/site-packages (from requests) (2.0.3)\n",
      "Requirement already satisfied: certifi>=2017.4.17 in /home/esoteric/anaconda3/envs/fujitsu/lib/python3.10/site-packages (from requests) (2023.5.7)\n",
      "Requirement already satisfied: simpleeval in /home/esoteric/anaconda3/envs/fujitsu/lib/python3.10/site-packages (0.9.13)\n",
      "Requirement already satisfied: toolz in /home/esoteric/anaconda3/envs/fujitsu/lib/python3.10/site-packages (0.12.0)\n",
      "Requirement already satisfied: toposort in /home/esoteric/anaconda3/envs/fujitsu/lib/python3.10/site-packages (1.10)\n",
      "Requirement already satisfied: typing-inspect in /home/esoteric/anaconda3/envs/fujitsu/lib/python3.10/site-packages (0.8.0)\n",
      "Requirement already satisfied: mypy-extensions>=0.3.0 in /home/esoteric/anaconda3/envs/fujitsu/lib/python3.10/site-packages (from typing-inspect) (1.0.0)\n",
      "Requirement already satisfied: typing-extensions>=3.7.4 in /home/esoteric/anaconda3/envs/fujitsu/lib/python3.10/site-packages (from typing-inspect) (4.7.1)\n",
      "Requirement already satisfied: typing_extensions in /home/esoteric/anaconda3/envs/fujitsu/lib/python3.10/site-packages (4.7.1)\n",
      "Requirement already satisfied: urllib3 in /home/esoteric/anaconda3/envs/fujitsu/lib/python3.10/site-packages (2.0.3)\n",
      "Requirement already satisfied: websockets in /home/esoteric/anaconda3/envs/fujitsu/lib/python3.10/site-packages (11.0.2)\n",
      "Requirement already satisfied: xlwings in /home/esoteric/anaconda3/envs/fujitsu/lib/python3.10/site-packages (0.30.13)\n"
     ]
    }
   ],
   "source": [
    "import sys\n",
    "!{sys.executable} -m pip install charset-normalizer\n",
    "!{sys.executable} -m pip install dataclasses\n",
    "!{sys.executable} -m pip install dataclasses-serialization\n",
    "!{sys.executable} -m pip install idna\n",
    "!{sys.executable} -m pip install lxml\n",
    "!{sys.executable} -m pip install more-properties\n",
    "!{sys.executable} -m pip install mypy-extensions\n",
    "!{sys.executable} -m pip install numpy\n",
    "!{sys.executable} -m pip install orjson\n",
    "!{sys.executable} -m pip install psutil\n",
    "!{sys.executable} -m pip install requests\n",
    "!{sys.executable} -m pip install simpleeval\n",
    "!{sys.executable} -m pip install toolz\n",
    "!{sys.executable} -m pip install toposort\n",
    "!{sys.executable} -m pip install typing-inspect\n",
    "!{sys.executable} -m pip install typing_extensions\n",
    "!{sys.executable} -m pip install urllib3\n",
    "!{sys.executable} -m pip install websockets\n",
    "!{sys.executable} -m pip install numpyencoder\n",
    "!{sys.executable} -m pip install xlwings"
   ]
  },
  {
   "cell_type": "code",
   "execution_count": 2,
   "metadata": {},
   "outputs": [],
   "source": [
    "# GET THE CONFIG\n",
    "import utils\n",
    "user1 = utils.getenvcached(\"QUETZALCOATL_USER1\")\n",
    "token1 = utils.getenvcached(\"QUETZALCOATL_TOKEN1\")"
   ]
  },
  {
   "cell_type": "code",
   "execution_count": 3,
   "metadata": {},
   "outputs": [],
   "source": [
    "from LaplaceAPIClient import *\n",
    "import os\n",
    "\n",
    "from sklearn.metrics import confusion_matrix\n",
    "from sklearn.model_selection import train_test_split\n",
    "import numpy as np\n",
    "from sklearn.metrics import accuracy_score\n",
    "import random\n",
    "import math"
   ]
  },
  {
   "cell_type": "markdown",
   "metadata": {},
   "source": [
    "This is a very artificial demo of our ML learning subsystem. \n",
    "Please contact aiqml@anzaetek.com if interested by more"
   ]
  },
  {
   "cell_type": "code",
   "execution_count": 4,
   "metadata": {},
   "outputs": [],
   "source": [
    "\n",
    "# Generate some train & test data, using sklearn here but no obligation really\n",
    "st = random.getstate()\n",
    "random.seed(42)\n",
    "w = 3.14*20\n",
    "features = [\n",
    "    (math.sin(x*w) + random.uniform(-0.05, 0.05),\n",
    "    math.cos(x*w) + random.uniform(-0.01, 0.03))\n",
    "    for x in [\n",
    "        k * 0.001\n",
    "        for k in range(1000)\n",
    "    ]\n",
    "]\n",
    "labels = [1 if x+y + random.uniform(-0.01, 0.01) >= 0.7 else 0 for (x,y) in features]\n",
    "random.setstate(st)\n",
    "X_train, X_test, y_train, y_test = train_test_split(features, labels, test_size=0.2, random_state=42)"
   ]
  },
  {
   "cell_type": "code",
   "execution_count": 5,
   "metadata": {},
   "outputs": [
    {
     "name": "stdout",
     "output_type": "stream",
     "text": [
      "{'Results': {'report': {'accuracy': 0.985, 'confusion_matrix': [[128, 0], [3, 69]]}}, 'Status': {'credit': 100, 'message': 'done'}}\n",
      "result= MLTrainingSolution(Results={'report': {'accuracy': 0.985, 'confusion_matrix': [[128, 0], [3, 69]]}}, Status=OperationStatusSerde(credit=100, message='done'))\n",
      "MLTrainingSolution(Results={'report': {'accuracy': 0.985, 'confusion_matrix': [[128, 0], [3, 69]]}}, Status=OperationStatusSerde(credit=100, message='done'))\n",
      "0.985\n",
      "{'Results': {'status': {}}, 'Status': {'credit': 100, 'message': 'done'}, 'Labels': [1, 0, 0, 0, 1, 0, 1, 1, 0, 0, 1, 0, 0, 0, 0, 1, 0, 0, 0, 1, 0, 0, 0, 1, 1, 0, 1, 0, 1, 0, 0, 0, 1, 1, 0, 1, 0, 0, 1, 0, 1, 0, 1, 0, 1, 0, 1, 1, 0, 0, 0, 0, 0, 0, 1, 0, 1, 1, 1, 1, 0, 0, 0, 1, 1, 0, 0, 0, 0, 0, 1, 0, 0, 0, 0, 0, 0, 0, 0, 1, 0, 0, 0, 0, 1, 0, 1, 1, 0, 1, 0, 0, 1, 1, 0, 0, 0, 0, 0, 1, 1, 0, 0, 0, 0, 0, 0, 0, 0, 1, 1, 1, 0, 1, 0, 0, 0, 0, 0, 0, 0, 1, 1, 0, 0, 0, 0, 0, 0, 1, 1, 0, 0, 0, 1, 0, 1, 1, 1, 0, 0, 0, 1, 0, 0, 1, 1, 0, 1, 1, 0, 0, 0, 1, 0, 0, 1, 1, 0, 0, 0, 0, 0, 0, 0, 0, 1, 0, 1, 1, 0, 0, 1, 0, 0, 0, 0, 0, 1, 0, 0, 0, 0, 1, 0, 0, 0, 0, 0, 0, 0, 1, 0, 1, 1, 1, 0, 1, 1, 0]}\n",
      "result= MLInferenceSolution(Results={'status': {}}, Status=OperationStatusSerde(credit=100, message='done'), Labels=[1, 0, 0, 0, 1, 0, 1, 1, 0, 0, 1, 0, 0, 0, 0, 1, 0, 0, 0, 1, 0, 0, 0, 1, 1, 0, 1, 0, 1, 0, 0, 0, 1, 1, 0, 1, 0, 0, 1, 0, 1, 0, 1, 0, 1, 0, 1, 1, 0, 0, 0, 0, 0, 0, 1, 0, 1, 1, 1, 1, 0, 0, 0, 1, 1, 0, 0, 0, 0, 0, 1, 0, 0, 0, 0, 0, 0, 0, 0, 1, 0, 0, 0, 0, 1, 0, 1, 1, 0, 1, 0, 0, 1, 1, 0, 0, 0, 0, 0, 1, 1, 0, 0, 0, 0, 0, 0, 0, 0, 1, 1, 1, 0, 1, 0, 0, 0, 0, 0, 0, 0, 1, 1, 0, 0, 0, 0, 0, 0, 1, 1, 0, 0, 0, 1, 0, 1, 1, 1, 0, 0, 0, 1, 0, 0, 1, 1, 0, 1, 1, 0, 0, 0, 1, 0, 0, 1, 1, 0, 0, 0, 0, 0, 0, 0, 0, 1, 0, 1, 1, 0, 0, 1, 0, 0, 0, 0, 0, 1, 0, 0, 0, 0, 1, 0, 0, 0, 0, 0, 0, 0, 1, 0, 1, 1, 1, 0, 1, 1, 0])\n",
      "MLInferenceSolution(Results={'status': {}}, Status=OperationStatusSerde(credit=100, message='done'), Labels=[1, 0, 0, 0, 1, 0, 1, 1, 0, 0, 1, 0, 0, 0, 0, 1, 0, 0, 0, 1, 0, 0, 0, 1, 1, 0, 1, 0, 1, 0, 0, 0, 1, 1, 0, 1, 0, 0, 1, 0, 1, 0, 1, 0, 1, 0, 1, 1, 0, 0, 0, 0, 0, 0, 1, 0, 1, 1, 1, 1, 0, 0, 0, 1, 1, 0, 0, 0, 0, 0, 1, 0, 0, 0, 0, 0, 0, 0, 0, 1, 0, 0, 0, 0, 1, 0, 1, 1, 0, 1, 0, 0, 1, 1, 0, 0, 0, 0, 0, 1, 1, 0, 0, 0, 0, 0, 0, 0, 0, 1, 1, 1, 0, 1, 0, 0, 0, 0, 0, 0, 0, 1, 1, 0, 0, 0, 0, 0, 0, 1, 1, 0, 0, 0, 1, 0, 1, 1, 1, 0, 0, 0, 1, 0, 0, 1, 1, 0, 1, 1, 0, 0, 0, 1, 0, 0, 1, 1, 0, 0, 0, 0, 0, 0, 0, 0, 1, 0, 1, 1, 0, 0, 1, 0, 0, 0, 0, 0, 1, 0, 0, 0, 0, 1, 0, 0, 0, 0, 0, 0, 0, 1, 0, 1, 1, 1, 0, 1, 1, 0])\n",
      "Accuracy: 0.985\n",
      "ok!!\n"
     ]
    }
   ],
   "source": [
    "\n",
    "# running remote inference\n",
    "config = {\n",
    "    \"n_estimators\":50, \n",
    "    \"learning_rate\":0.2, \n",
    "    \"random_state\":42,\n",
    "    \"early_stopping_rounds\":10, \n",
    "    \"eval_metric\":\"error\",\n",
    "    \"model_type\":\"onnx/xgboost\"\n",
    "}\n",
    "\n",
    "q19 = MLTrainingProblem(config, UserTokenSerde(user1, token1), \"TestOnly#TestML19\", # type: ignore\n",
    "                        np.array(X_train).tolist(), np.array(y_train).tolist(),\n",
    "                        np.array(X_test).tolist(), np.array(y_test).tolist())\n",
    "\n",
    "def queryDone19_2(res: MLInferenceSolution) -> None:\n",
    "    print(res)\n",
    "    accuracy4 = accuracy_score(y_test, res.Labels)\n",
    "    print(\"Accuracy:\", accuracy4)\n",
    "    if accuracy4 < 0.98:\n",
    "        raise Exception(\"failed\")\n",
    "    print(\"ok!!\")\n",
    "\n",
    "def queryDone19(res: MLTrainingSolution) -> None:\n",
    "    print(res)\n",
    "    print(res.Results[\"report\"][\"accuracy\"]) # type: ignore\n",
    "    if res.Results[\"report\"][\"accuracy\"] < 0.98: # type: ignore\n",
    "        raise Exception(\"failed\")\n",
    "    q19_2 = MLInferenceProblem(config, UserTokenSerde(user1, token1), \"TestOnly#TestML19\", np.array(X_test).tolist()) # type: ignore\n",
    "    pqueryMLInferenceProblem(\"https://api2.anzaetek.com:443/execute\", q19_2, queryDone19_2)\n",
    "\n",
    "pqueryMLTrainingProblem(\"https://api2.anzaetek.com:443/execute\", q19, queryDone19)"
   ]
  }
 ],
 "metadata": {
  "kernelspec": {
   "display_name": "fujitsu",
   "language": "python",
   "name": "python3"
  },
  "language_info": {
   "codemirror_mode": {
    "name": "ipython",
    "version": 3
   },
   "file_extension": ".py",
   "mimetype": "text/x-python",
   "name": "python",
   "nbconvert_exporter": "python",
   "pygments_lexer": "ipython3",
   "version": "3.10.0"
  }
 },
 "nbformat": 4,
 "nbformat_minor": 2
}
