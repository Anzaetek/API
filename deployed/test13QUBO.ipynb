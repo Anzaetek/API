{
 "cells": [
  {
   "cell_type": "code",
   "execution_count": 1,
   "metadata": {},
   "outputs": [
    {
     "name": "stdout",
     "output_type": "stream",
     "text": [
      "Requirement already satisfied: charset-normalizer in /home/esoteric/anaconda3/envs/fujitsu/lib/python3.10/site-packages (3.2.0)\n",
      "Requirement already satisfied: dataclasses in /home/esoteric/anaconda3/envs/fujitsu/lib/python3.10/site-packages (0.6)\n",
      "Requirement already satisfied: dataclasses-serialization in /home/esoteric/anaconda3/envs/fujitsu/lib/python3.10/site-packages (1.3.1)\n",
      "Requirement already satisfied: dataclasses in /home/esoteric/anaconda3/envs/fujitsu/lib/python3.10/site-packages (from dataclasses-serialization) (0.6)\n",
      "Requirement already satisfied: more-properties>=1.1.0 in /home/esoteric/anaconda3/envs/fujitsu/lib/python3.10/site-packages (from dataclasses-serialization) (1.1.1)\n",
      "Requirement already satisfied: typing-inspect in /home/esoteric/anaconda3/envs/fujitsu/lib/python3.10/site-packages (from dataclasses-serialization) (0.8.0)\n",
      "Requirement already satisfied: toolz in /home/esoteric/anaconda3/envs/fujitsu/lib/python3.10/site-packages (from dataclasses-serialization) (0.12.0)\n",
      "Requirement already satisfied: toposort in /home/esoteric/anaconda3/envs/fujitsu/lib/python3.10/site-packages (from dataclasses-serialization) (1.10)\n",
      "Requirement already satisfied: mypy-extensions>=0.3.0 in /home/esoteric/anaconda3/envs/fujitsu/lib/python3.10/site-packages (from typing-inspect->dataclasses-serialization) (1.0.0)\n",
      "Requirement already satisfied: typing-extensions>=3.7.4 in /home/esoteric/anaconda3/envs/fujitsu/lib/python3.10/site-packages (from typing-inspect->dataclasses-serialization) (4.7.1)\n",
      "Requirement already satisfied: idna in /home/esoteric/anaconda3/envs/fujitsu/lib/python3.10/site-packages (3.4)\n",
      "Requirement already satisfied: lxml in /home/esoteric/anaconda3/envs/fujitsu/lib/python3.10/site-packages (4.9.4)\n",
      "Requirement already satisfied: more-properties in /home/esoteric/anaconda3/envs/fujitsu/lib/python3.10/site-packages (1.1.1)\n",
      "Requirement already satisfied: dataclasses in /home/esoteric/anaconda3/envs/fujitsu/lib/python3.10/site-packages (from more-properties) (0.6)\n",
      "Requirement already satisfied: mypy-extensions in /home/esoteric/anaconda3/envs/fujitsu/lib/python3.10/site-packages (1.0.0)\n",
      "Requirement already satisfied: numpy in /home/esoteric/anaconda3/envs/fujitsu/lib/python3.10/site-packages (1.23.5)\n",
      "Requirement already satisfied: orjson in /home/esoteric/anaconda3/envs/fujitsu/lib/python3.10/site-packages (3.8.10)\n",
      "Requirement already satisfied: psutil in /home/esoteric/anaconda3/envs/fujitsu/lib/python3.10/site-packages/psutil-5.9.5-py3.10-linux-x86_64.egg (5.9.5)\n",
      "Requirement already satisfied: requests in /home/esoteric/anaconda3/envs/fujitsu/lib/python3.10/site-packages (2.31.0)\n",
      "Requirement already satisfied: charset-normalizer<4,>=2 in /home/esoteric/anaconda3/envs/fujitsu/lib/python3.10/site-packages (from requests) (3.2.0)\n",
      "Requirement already satisfied: idna<4,>=2.5 in /home/esoteric/anaconda3/envs/fujitsu/lib/python3.10/site-packages (from requests) (3.4)\n",
      "Requirement already satisfied: urllib3<3,>=1.21.1 in /home/esoteric/anaconda3/envs/fujitsu/lib/python3.10/site-packages (from requests) (2.0.3)\n",
      "Requirement already satisfied: certifi>=2017.4.17 in /home/esoteric/anaconda3/envs/fujitsu/lib/python3.10/site-packages (from requests) (2023.5.7)\n",
      "Requirement already satisfied: simpleeval in /home/esoteric/anaconda3/envs/fujitsu/lib/python3.10/site-packages (0.9.13)\n",
      "Requirement already satisfied: toolz in /home/esoteric/anaconda3/envs/fujitsu/lib/python3.10/site-packages (0.12.0)\n",
      "Requirement already satisfied: toposort in /home/esoteric/anaconda3/envs/fujitsu/lib/python3.10/site-packages (1.10)\n",
      "Requirement already satisfied: typing-inspect in /home/esoteric/anaconda3/envs/fujitsu/lib/python3.10/site-packages (0.8.0)\n",
      "Requirement already satisfied: mypy-extensions>=0.3.0 in /home/esoteric/anaconda3/envs/fujitsu/lib/python3.10/site-packages (from typing-inspect) (1.0.0)\n",
      "Requirement already satisfied: typing-extensions>=3.7.4 in /home/esoteric/anaconda3/envs/fujitsu/lib/python3.10/site-packages (from typing-inspect) (4.7.1)\n",
      "Requirement already satisfied: typing_extensions in /home/esoteric/anaconda3/envs/fujitsu/lib/python3.10/site-packages (4.7.1)\n",
      "Requirement already satisfied: urllib3 in /home/esoteric/anaconda3/envs/fujitsu/lib/python3.10/site-packages (2.0.3)\n",
      "Requirement already satisfied: websockets in /home/esoteric/anaconda3/envs/fujitsu/lib/python3.10/site-packages (11.0.2)\n",
      "Requirement already satisfied: xlwings in /home/esoteric/anaconda3/envs/fujitsu/lib/python3.10/site-packages (0.30.13)\n"
     ]
    }
   ],
   "source": [
    "# CHECK INSTALL\n",
    "import sys\n",
    "!{sys.executable} -m pip install charset-normalizer\n",
    "!{sys.executable} -m pip install dataclasses\n",
    "!{sys.executable} -m pip install dataclasses-serialization\n",
    "!{sys.executable} -m pip install idna\n",
    "!{sys.executable} -m pip install lxml\n",
    "!{sys.executable} -m pip install more-properties\n",
    "!{sys.executable} -m pip install mypy-extensions\n",
    "!{sys.executable} -m pip install numpy\n",
    "!{sys.executable} -m pip install orjson\n",
    "!{sys.executable} -m pip install psutil\n",
    "!{sys.executable} -m pip install requests\n",
    "!{sys.executable} -m pip install simpleeval\n",
    "!{sys.executable} -m pip install toolz\n",
    "!{sys.executable} -m pip install toposort\n",
    "!{sys.executable} -m pip install typing-inspect\n",
    "!{sys.executable} -m pip install typing_extensions\n",
    "!{sys.executable} -m pip install urllib3\n",
    "!{sys.executable} -m pip install websockets\n",
    "!{sys.executable} -m pip install xlwings"
   ]
  },
  {
   "cell_type": "code",
   "execution_count": 2,
   "metadata": {},
   "outputs": [],
   "source": [
    "# GET THE CONFIG\n",
    "import utils\n",
    "user1 = utils.getenvcached(\"QUETZALCOATL_USER1\")\n",
    "token1 = utils.getenvcached(\"QUETZALCOATL_TOKEN1\")"
   ]
  },
  {
   "cell_type": "code",
   "execution_count": 3,
   "metadata": {},
   "outputs": [],
   "source": [
    "from LaplaceAPIClient import *\n",
    "import os\n",
    "\n",
    "config_solver01_2000_13 = {\n",
    "    \"backend\": \"QUBOSimulatorBackend\",\n",
    "    \"nshots\": 2000,      \n",
    "}\n",
    "\n",
    "config_solver01_fujitsuda_13 = {\n",
    "    \"backend\": \"FujitsuDASimulatorBackend\",\n",
    "    \"nshots\": 1,\n",
    "    \"number_iterations\": 1000,   #  = 1000,               # total number of itrations per run\n",
    "    \"number_runs\": 16,           #  = 16,                  # number of stochastically independant runs\n",
    "    \"temperature_start\": 5000,   # = 5000,               # start temperature for annealing as float value\n",
    "    \"temperature_end\": 10,       # = 10,                 # end temperature for annealing as float value \n",
    "    \"temperature_mode\": 0,      # = 0,                         # 0: reduce temperature by factor (1-temperature_decay) every temperature_interval steps\n",
    "                                                      # 1: reduce temperature by factor (1-temperature_decay*temperature) every temperature_interval steps\n",
    "                                                      # 2: reduce temperature by factor (1-temperature_decay*temperature^2) every temperature_interval steps\n",
    "    \"temperature_decay\": 0.0095, # = 0.0095,             # see temperature_mode 0\n",
    "    \"temperature_interval\": 1,   # = 1,                  # see temperature_mode 0\n",
    "    \"offset_increase_rate\": 5000.0, # = 5000.0,             # increase of dynamic offset when no bit selected, set to 0.0 to switch off dynamic offset\n",
    "    \"rescale\": 100.0\n",
    "}\n",
    "\n",
    "config_solver01_VQE_13 = {\n",
    "    \"backend\": \"VQESimulatorBackend\",\n",
    "    \"ninit\": 1,\n",
    "    \"nshots\": 5,     \n",
    "}\n",
    "\n"
   ]
  },
  {
   "cell_type": "markdown",
   "metadata": {},
   "source": [
    "We will solve: $ min_{x \\ {0,1}^n }  x^t . Q. t $"
   ]
  },
  {
   "cell_type": "code",
   "execution_count": 4,
   "metadata": {},
   "outputs": [],
   "source": [
    "qubo13q = QUBO(np.array([\n",
    "    [0.0, -1.0,  4.0],\n",
    "    [-1.0, 5.0, -9.0],\n",
    "    [4.0, -9.0, -5.0]\n",
    "]))"
   ]
  },
  {
   "cell_type": "code",
   "execution_count": 5,
   "metadata": {},
   "outputs": [
    {
     "name": "stdout",
     "output_type": "stream",
     "text": [
      "{'Results': {'bestBinaryVector': [0.0, 1.0, 1.0]}, 'Status': {'credit': 100, 'message': 'done'}}\n",
      "{\"Results\": {\"bestBinaryVector\": [0.0, 1.0, 1.0]}, \"Status\": {\"credit\": 100, \"message\": \"done\"}}\n",
      "result=\n",
      "QUBOSolverSolution(Results={'bestBinaryVector': array([0., 1., 1.])}, Status=OperationStatusSerde(credit=100, message='done'))\n"
     ]
    }
   ],
   "source": [
    "\n",
    "qubo13 = QUBOSolverProblem(qubo13q, config_solver01_2000_13, UserTokenSerde(user=user1, token=token1)) # type: ignore\n",
    "\n",
    "def queryDone13(res: QUBOSolverSolution) -> None:\n",
    "    print(res)\n",
    "    if not \"bestBinaryVector\" in res.Results:\n",
    "        raise Exception('failure')\n",
    "    if not len(res.Results[\"bestBinaryVector\"]) == 3:\n",
    "        raise Exception('failure')\n",
    "    if not abs(res.Results[\"bestBinaryVector\"][0] - 0.0) < 1e-12:\n",
    "        raise Exception('failure')\n",
    "    if not abs(res.Results[\"bestBinaryVector\"][1] - 1.0) < 1e-12:\n",
    "        raise Exception('failure')\n",
    "    if not abs(res.Results[\"bestBinaryVector\"][2] - 1.0) < 1e-12:\n",
    "        raise Exception('failure')\n",
    "\n",
    "pqueryQUBOSolverProblem(\"https://api2.anzaetek.com:443/execute\", qubo13, queryDone13)\n"
   ]
  },
  {
   "cell_type": "code",
   "execution_count": 6,
   "metadata": {},
   "outputs": [
    {
     "name": "stdout",
     "output_type": "stream",
     "text": [
      "vqe\n",
      "{'Results': {'bestBinaryVector': [0.0, 1.0, 1.0]}, 'Status': {'credit': 100, 'message': 'done'}}\n",
      "{\"Results\": {\"bestBinaryVector\": [0.0, 1.0, 1.0]}, \"Status\": {\"credit\": 100, \"message\": \"done\"}}\n",
      "result=\n",
      "QUBOSolverSolution(Results={'bestBinaryVector': array([0., 1., 1.])}, Status=OperationStatusSerde(credit=100, message='done'))\n",
      "vqe done\n"
     ]
    }
   ],
   "source": [
    "print(\"vqe\")\n",
    "qubo13_vqe = QUBOSolverProblem(qubo13q, config_solver01_VQE_13, UserTokenSerde(user=user1, token=token1)) # type: ignore\n",
    "pqueryQUBOSolverProblem(\"https://api2.anzaetek.com:443/execute\", qubo13_vqe, queryDone13)\n",
    "print(\"vqe done\")"
   ]
  },
  {
   "cell_type": "code",
   "execution_count": 7,
   "metadata": {},
   "outputs": [
    {
     "name": "stdout",
     "output_type": "stream",
     "text": [
      "{'Results': {'bestBinaryVector': [0.0, 1.0, 1.0]}, 'Status': {'credit': 100, 'message': 'done'}}\n",
      "{\"Results\": {\"bestBinaryVector\": [0.0, 1.0, 1.0]}, \"Status\": {\"credit\": 100, \"message\": \"done\"}}\n",
      "result=\n",
      "QUBOSolverSolution(Results={'bestBinaryVector': array([0., 1., 1.])}, Status=OperationStatusSerde(credit=100, message='done'))\n"
     ]
    }
   ],
   "source": [
    "qubo13_fujitsu = QUBOSolverProblem(qubo13q, config_solver01_fujitsuda_13, UserTokenSerde(user=user1, token=token1)) # type: ignore\n",
    "pqueryQUBOSolverProblem(\"https://api2.anzaetek.com:443/execute\", qubo13_fujitsu, queryDone13)"
   ]
  }
 ],
 "metadata": {
  "kernelspec": {
   "display_name": "perceval",
   "language": "python",
   "name": "python3"
  },
  "language_info": {
   "codemirror_mode": {
    "name": "ipython",
    "version": 3
   },
   "file_extension": ".py",
   "mimetype": "text/x-python",
   "name": "python",
   "nbconvert_exporter": "python",
   "pygments_lexer": "ipython3",
   "version": "3.10.0"
  }
 },
 "nbformat": 4,
 "nbformat_minor": 2
}
