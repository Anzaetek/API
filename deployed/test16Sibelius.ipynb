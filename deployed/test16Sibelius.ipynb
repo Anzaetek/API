{
 "cells": [
  {
   "cell_type": "code",
   "execution_count": 1,
   "metadata": {},
   "outputs": [
    {
     "name": "stdout",
     "output_type": "stream",
     "text": [
      "Requirement already satisfied: charset-normalizer in /home/esoteric/anaconda3/envs/fujitsu/lib/python3.10/site-packages (3.2.0)\n",
      "Requirement already satisfied: dataclasses in /home/esoteric/anaconda3/envs/fujitsu/lib/python3.10/site-packages (0.6)\n",
      "Requirement already satisfied: dataclasses-serialization in /home/esoteric/anaconda3/envs/fujitsu/lib/python3.10/site-packages (1.3.1)\n",
      "Requirement already satisfied: dataclasses in /home/esoteric/anaconda3/envs/fujitsu/lib/python3.10/site-packages (from dataclasses-serialization) (0.6)\n",
      "Requirement already satisfied: more-properties>=1.1.0 in /home/esoteric/anaconda3/envs/fujitsu/lib/python3.10/site-packages (from dataclasses-serialization) (1.1.1)\n",
      "Requirement already satisfied: typing-inspect in /home/esoteric/anaconda3/envs/fujitsu/lib/python3.10/site-packages (from dataclasses-serialization) (0.8.0)\n",
      "Requirement already satisfied: toolz in /home/esoteric/anaconda3/envs/fujitsu/lib/python3.10/site-packages (from dataclasses-serialization) (0.12.0)\n",
      "Requirement already satisfied: toposort in /home/esoteric/anaconda3/envs/fujitsu/lib/python3.10/site-packages (from dataclasses-serialization) (1.10)\n",
      "Requirement already satisfied: mypy-extensions>=0.3.0 in /home/esoteric/anaconda3/envs/fujitsu/lib/python3.10/site-packages (from typing-inspect->dataclasses-serialization) (1.0.0)\n",
      "Requirement already satisfied: typing-extensions>=3.7.4 in /home/esoteric/anaconda3/envs/fujitsu/lib/python3.10/site-packages (from typing-inspect->dataclasses-serialization) (4.7.1)\n",
      "Requirement already satisfied: idna in /home/esoteric/anaconda3/envs/fujitsu/lib/python3.10/site-packages (3.4)\n",
      "Requirement already satisfied: lxml in /home/esoteric/anaconda3/envs/fujitsu/lib/python3.10/site-packages (4.9.4)\n",
      "Requirement already satisfied: more-properties in /home/esoteric/anaconda3/envs/fujitsu/lib/python3.10/site-packages (1.1.1)\n",
      "Requirement already satisfied: dataclasses in /home/esoteric/anaconda3/envs/fujitsu/lib/python3.10/site-packages (from more-properties) (0.6)\n",
      "Requirement already satisfied: mypy-extensions in /home/esoteric/anaconda3/envs/fujitsu/lib/python3.10/site-packages (1.0.0)\n",
      "Requirement already satisfied: numpy in /home/esoteric/anaconda3/envs/fujitsu/lib/python3.10/site-packages (1.23.5)\n",
      "Requirement already satisfied: orjson in /home/esoteric/anaconda3/envs/fujitsu/lib/python3.10/site-packages (3.8.10)\n",
      "Requirement already satisfied: psutil in /home/esoteric/anaconda3/envs/fujitsu/lib/python3.10/site-packages/psutil-5.9.5-py3.10-linux-x86_64.egg (5.9.5)\n",
      "Requirement already satisfied: requests in /home/esoteric/anaconda3/envs/fujitsu/lib/python3.10/site-packages (2.31.0)\n",
      "Requirement already satisfied: charset-normalizer<4,>=2 in /home/esoteric/anaconda3/envs/fujitsu/lib/python3.10/site-packages (from requests) (3.2.0)\n",
      "Requirement already satisfied: idna<4,>=2.5 in /home/esoteric/anaconda3/envs/fujitsu/lib/python3.10/site-packages (from requests) (3.4)\n",
      "Requirement already satisfied: urllib3<3,>=1.21.1 in /home/esoteric/anaconda3/envs/fujitsu/lib/python3.10/site-packages (from requests) (2.0.3)\n",
      "Requirement already satisfied: certifi>=2017.4.17 in /home/esoteric/anaconda3/envs/fujitsu/lib/python3.10/site-packages (from requests) (2023.5.7)\n",
      "Requirement already satisfied: simpleeval in /home/esoteric/anaconda3/envs/fujitsu/lib/python3.10/site-packages (0.9.13)\n",
      "Requirement already satisfied: toolz in /home/esoteric/anaconda3/envs/fujitsu/lib/python3.10/site-packages (0.12.0)\n",
      "Requirement already satisfied: toposort in /home/esoteric/anaconda3/envs/fujitsu/lib/python3.10/site-packages (1.10)\n",
      "Requirement already satisfied: typing-inspect in /home/esoteric/anaconda3/envs/fujitsu/lib/python3.10/site-packages (0.8.0)\n",
      "Requirement already satisfied: mypy-extensions>=0.3.0 in /home/esoteric/anaconda3/envs/fujitsu/lib/python3.10/site-packages (from typing-inspect) (1.0.0)\n",
      "Requirement already satisfied: typing-extensions>=3.7.4 in /home/esoteric/anaconda3/envs/fujitsu/lib/python3.10/site-packages (from typing-inspect) (4.7.1)\n",
      "Requirement already satisfied: typing_extensions in /home/esoteric/anaconda3/envs/fujitsu/lib/python3.10/site-packages (4.7.1)\n",
      "Requirement already satisfied: urllib3 in /home/esoteric/anaconda3/envs/fujitsu/lib/python3.10/site-packages (2.0.3)\n",
      "Requirement already satisfied: websockets in /home/esoteric/anaconda3/envs/fujitsu/lib/python3.10/site-packages (11.0.2)\n",
      "Requirement already satisfied: xlwings in /home/esoteric/anaconda3/envs/fujitsu/lib/python3.10/site-packages (0.30.13)\n"
     ]
    }
   ],
   "source": [
    "# CHECK INSTALL\n",
    "import sys\n",
    "!{sys.executable} -m pip install charset-normalizer\n",
    "!{sys.executable} -m pip install dataclasses\n",
    "!{sys.executable} -m pip install dataclasses-serialization\n",
    "!{sys.executable} -m pip install idna\n",
    "!{sys.executable} -m pip install lxml\n",
    "!{sys.executable} -m pip install more-properties\n",
    "!{sys.executable} -m pip install mypy-extensions\n",
    "!{sys.executable} -m pip install numpy\n",
    "!{sys.executable} -m pip install orjson\n",
    "!{sys.executable} -m pip install psutil\n",
    "!{sys.executable} -m pip install requests\n",
    "!{sys.executable} -m pip install simpleeval\n",
    "!{sys.executable} -m pip install toolz\n",
    "!{sys.executable} -m pip install toposort\n",
    "!{sys.executable} -m pip install typing-inspect\n",
    "!{sys.executable} -m pip install typing_extensions\n",
    "!{sys.executable} -m pip install urllib3\n",
    "!{sys.executable} -m pip install websockets\n",
    "!{sys.executable} -m pip install numpyencoder\n",
    "!{sys.executable} -m pip install xlwings"
   ]
  },
  {
   "cell_type": "code",
   "execution_count": 2,
   "metadata": {},
   "outputs": [],
   "source": [
    "# GET THE CONFIG\n",
    "import utils\n",
    "user1 = utils.getenvcached(\"QUETZALCOATL_USER1\")\n",
    "token1 = utils.getenvcached(\"QUETZALCOATL_TOKEN1\")"
   ]
  },
  {
   "cell_type": "code",
   "execution_count": 3,
   "metadata": {},
   "outputs": [],
   "source": [
    "from LaplaceAPIClient import *\n",
    "import os"
   ]
  },
  {
   "cell_type": "code",
   "execution_count": 4,
   "metadata": {},
   "outputs": [
    {
     "name": "stdout",
     "output_type": "stream",
     "text": [
      "{ \"arguments\":[{\n",
      "    \"method\":\"PriceFLEXMCHLV(npath=65536,npathOld=262144)\",\n",
      "    \"trade_string\":\"BasketCall(maturity=20211113,T=20191113,underlyings=KOSPI2+SAMSUNG,ref1=280,ref2=100,strike=1)\",\n",
      "    \"spots\":{\"KOSPI2\":280,\"SAMSUNG\":100},\n",
      "    \"rates\":{\"KRW\":0.04},\n",
      "    \"repos\":{\"KOSPI2\":0.03,\"SAMSUNG\":0.01},\n",
      "    \"flatVols\":{\"KOSPI2\":0.20,\"SAMSUNG\":0.14},\n",
      "    \"fxInterest\": {\"KRW\":0.04},\n",
      "    \"fxYield\": {\"USDKRW\":0.01},\n",
      "    \"fxVols\": {\"USDKRW\":0.20},\n",
      "    \"fxSpots\": {\"USDKRW\":1100.0},\n",
      "    \"ratesMap\": {\"KOSPI2\":\"KRW\",\"SAMSUNG\":\"KRW\"},\n",
      "    \"correlations\":[[1.0, 0.7],[0.7, 1.0]],\n",
      "    \"correlationKeys\":[\"KOSPI2\", \"SAMSUNG\"]\n",
      "    }],\n",
      "    \"name\": \"PriceSimplifiedJob/1\"\n",
      "}\n"
     ]
    }
   ],
   "source": [
    "path = \"./simplifiedJob10_cmd.json\"\n",
    "txt = \"\"\n",
    "with open(path, \"r\") as file:\n",
    "    txt = file.read()\n",
    "print(txt)\n",
    "\n",
    "# N.B.\n",
    "# This is a basket call, on KRW assets, in MC with 65k paths\n",
    "# MC is using a low discrepancy sequence + RQMC\n",
    "# payoff is max of ratios\n",
    "# generic model is HLV (with sijmplified input but the underlying model is a Buehler/DB-style LV with forward transform\n",
    "# please contact pricing@anzaetek.com if interested by more demos ~"
   ]
  },
  {
   "cell_type": "code",
   "execution_count": 5,
   "metadata": {},
   "outputs": [
    {
     "name": "stdout",
     "output_type": "stream",
     "text": [
      "{'Results': {'analytics': '{\"audit\":{\"log\":[]},\"scenarios\":[\"PV\"],\"values\":[[0.99886490187506194]]}'}, 'Status': {'credit': 100, 'message': 'done'}}\n",
      "result= SibeliusSolution(Results={'analytics': '{\"audit\":{\"log\":[]},\"scenarios\":[\"PV\"],\"values\":[[0.99886490187506194]]}'}, Status=OperationStatusSerde(credit=100, message='done'))\n",
      "SibeliusSolution(Results={'analytics': '{\"audit\":{\"log\":[]},\"scenarios\":[\"PV\"],\"values\":[[0.99886490187506194]]}'}, Status=OperationStatusSerde(credit=100, message='done'))\n",
      "dict_keys(['analytics'])\n",
      "0.9988649018750619\n",
      "ok\n"
     ]
    }
   ],
   "source": [
    "\n",
    "qsP = SibeliusProblem({}, UserTokenSerde(user=user1, token=token1), txt) # type: ignore\n",
    "\n",
    "def queryDone16(res: SibeliusSolution) -> None:\n",
    "    print(res) \n",
    "    print(res.Results.keys())\n",
    "    print(json.loads(res.Results[\"analytics\"])[\"values\"][0][0]) # type: ignore\n",
    "    ref = 0.99886490187506194\n",
    "    if abs(json.loads(res.Results[\"analytics\"])[\"values\"][0][0] - ref) < 1e-3: #type: ignore\n",
    "        print(\"ok\")\n",
    "    else:\n",
    "        raise Exception('failure')\n",
    "\n",
    "pquerySibeliusProblem(\"https://api2.anzaetek.com:443/execute\", qsP, queryDone16)"
   ]
  }
 ],
 "metadata": {
  "kernelspec": {
   "display_name": "fujitsu",
   "language": "python",
   "name": "python3"
  },
  "language_info": {
   "codemirror_mode": {
    "name": "ipython",
    "version": 3
   },
   "file_extension": ".py",
   "mimetype": "text/x-python",
   "name": "python",
   "nbconvert_exporter": "python",
   "pygments_lexer": "ipython3",
   "version": "3.10.0"
  }
 },
 "nbformat": 4,
 "nbformat_minor": 2
}
