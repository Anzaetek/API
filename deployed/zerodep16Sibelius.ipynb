{
 "cells": [
  {
   "cell_type": "code",
   "execution_count": 50,
   "metadata": {},
   "outputs": [
    {
     "name": "stdout",
     "output_type": "stream",
     "text": [
      "Requirement already satisfied: requests in /home/esoteric/anaconda3/envs/fujitsu/lib/python3.10/site-packages (2.31.0)\n",
      "Requirement already satisfied: charset-normalizer<4,>=2 in /home/esoteric/anaconda3/envs/fujitsu/lib/python3.10/site-packages (from requests) (3.2.0)\n",
      "Requirement already satisfied: idna<4,>=2.5 in /home/esoteric/anaconda3/envs/fujitsu/lib/python3.10/site-packages (from requests) (3.4)\n",
      "Requirement already satisfied: urllib3<3,>=1.21.1 in /home/esoteric/anaconda3/envs/fujitsu/lib/python3.10/site-packages (from requests) (2.0.3)\n",
      "Requirement already satisfied: certifi>=2017.4.17 in /home/esoteric/anaconda3/envs/fujitsu/lib/python3.10/site-packages (from requests) (2023.5.7)\n"
     ]
    }
   ],
   "source": [
    "import sys\n",
    "!{sys.executable} -m pip install requests"
   ]
  },
  {
   "cell_type": "code",
   "execution_count": 51,
   "metadata": {},
   "outputs": [],
   "source": [
    "# GET THE CONFIG\n",
    "import utils\n",
    "user1 = utils.getenvcached(\"QUETZALCOATL_USER1\")\n",
    "token1 = utils.getenvcached(\"QUETZALCOATL_TOKEN1\")"
   ]
  },
  {
   "cell_type": "code",
   "execution_count": 52,
   "metadata": {},
   "outputs": [],
   "source": [
    "els = { \"arguments\":[{\n",
    "    \"method\":\"PriceFLEXMCHLV(npath=65536,npathOld=262144)\",\n",
    "    \"trade_string\":\"BasketCall(maturity=20211113,T=20191113,underlyings=KOSPI2+SAMSUNG,ref1=280,ref2=100,strike=1)\",\n",
    "    \"spots\":{\"KOSPI2\":280,\"SAMSUNG\":100},\n",
    "    \"rates\":{\"KRW\":0.04},\n",
    "    \"repos\":{\"KOSPI2\":0.03,\"SAMSUNG\":0.01},\n",
    "    \"flatVols\":{\"KOSPI2\":0.20,\"SAMSUNG\":0.14},\n",
    "    \"fxInterest\": {\"KRW\":0.04},\n",
    "    \"fxYield\": {\"USDKRW\":0.01},\n",
    "    \"fxVols\": {\"USDKRW\":0.20},\n",
    "    \"fxSpots\": {\"USDKRW\":1100.0},\n",
    "    \"ratesMap\": {\"KOSPI2\":\"KRW\",\"SAMSUNG\":\"KRW\"},\n",
    "    \"correlations\":[[1.0, 0.7],[0.7, 1.0]],\n",
    "    \"correlationKeys\":[\"KOSPI2\", \"SAMSUNG\"]\n",
    "    }],\n",
    "    \"name\": \"PriceSimplifiedJob/1\"\n",
    "}"
   ]
  },
  {
   "cell_type": "code",
   "execution_count": 53,
   "metadata": {},
   "outputs": [],
   "source": [
    "import requests\n",
    "import json\n",
    "\n",
    "url = \"https://api2.anzaetek.com:443/execute\"\n",
    "def query16(els):\n",
    "    q = { \"__class__\":\"SibeliusProblem\", \n",
    "        \"query\": { \"Config\":{},\n",
    "                    \"Info\":{\"user\":user1,\"token\":token1},\n",
    "                    \"SibeliusString\": json.dumps(els) }}\n",
    "    query = {'user': user1, \n",
    "            'token': token1, \n",
    "            'query': json.dumps(q)}\n",
    "    post_response = requests.post(url = url, json=query)\n",
    "    rv = post_response.json()\n",
    "    #print(rv)\n",
    "    rj = json.loads(rv['Results']['analytics'])\n",
    "    return rj['scenarios'], rj['values']\n",
    "\n"
   ]
  },
  {
   "cell_type": "code",
   "execution_count": 54,
   "metadata": {},
   "outputs": [
    {
     "name": "stdout",
     "output_type": "stream",
     "text": [
      "(['PV'], [[0.9988649018750619]])\n"
     ]
    }
   ],
   "source": [
    "rv = query16(els)\n",
    "print(repr(rv))"
   ]
  }
 ],
 "metadata": {
  "kernelspec": {
   "display_name": "fujitsu",
   "language": "python",
   "name": "python3"
  },
  "language_info": {
   "codemirror_mode": {
    "name": "ipython",
    "version": 3
   },
   "file_extension": ".py",
   "mimetype": "text/x-python",
   "name": "python",
   "nbconvert_exporter": "python",
   "pygments_lexer": "ipython3",
   "version": "3.10.0"
  }
 },
 "nbformat": 4,
 "nbformat_minor": 2
}
