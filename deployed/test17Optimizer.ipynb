{
 "cells": [
  {
   "cell_type": "code",
   "execution_count": 2,
   "metadata": {},
   "outputs": [
    {
     "name": "stdout",
     "output_type": "stream",
     "text": [
      "Requirement already satisfied: charset-normalizer in /home/esoteric/anaconda3/envs/fujitsu/lib/python3.10/site-packages (3.2.0)\n",
      "Requirement already satisfied: dataclasses in /home/esoteric/anaconda3/envs/fujitsu/lib/python3.10/site-packages (0.6)\n",
      "Requirement already satisfied: dataclasses-serialization in /home/esoteric/anaconda3/envs/fujitsu/lib/python3.10/site-packages (1.3.1)\n",
      "Requirement already satisfied: dataclasses in /home/esoteric/anaconda3/envs/fujitsu/lib/python3.10/site-packages (from dataclasses-serialization) (0.6)\n",
      "Requirement already satisfied: more-properties>=1.1.0 in /home/esoteric/anaconda3/envs/fujitsu/lib/python3.10/site-packages (from dataclasses-serialization) (1.1.1)\n",
      "Requirement already satisfied: typing-inspect in /home/esoteric/anaconda3/envs/fujitsu/lib/python3.10/site-packages (from dataclasses-serialization) (0.8.0)\n",
      "Requirement already satisfied: toolz in /home/esoteric/anaconda3/envs/fujitsu/lib/python3.10/site-packages (from dataclasses-serialization) (0.12.0)\n",
      "Requirement already satisfied: toposort in /home/esoteric/anaconda3/envs/fujitsu/lib/python3.10/site-packages (from dataclasses-serialization) (1.10)\n",
      "Requirement already satisfied: mypy-extensions>=0.3.0 in /home/esoteric/anaconda3/envs/fujitsu/lib/python3.10/site-packages (from typing-inspect->dataclasses-serialization) (1.0.0)\n",
      "Requirement already satisfied: typing-extensions>=3.7.4 in /home/esoteric/anaconda3/envs/fujitsu/lib/python3.10/site-packages (from typing-inspect->dataclasses-serialization) (4.7.1)\n",
      "Requirement already satisfied: idna in /home/esoteric/anaconda3/envs/fujitsu/lib/python3.10/site-packages (3.4)\n",
      "Requirement already satisfied: lxml in /home/esoteric/anaconda3/envs/fujitsu/lib/python3.10/site-packages (4.9.4)\n",
      "Requirement already satisfied: more-properties in /home/esoteric/anaconda3/envs/fujitsu/lib/python3.10/site-packages (1.1.1)\n",
      "Requirement already satisfied: dataclasses in /home/esoteric/anaconda3/envs/fujitsu/lib/python3.10/site-packages (from more-properties) (0.6)\n",
      "Requirement already satisfied: mypy-extensions in /home/esoteric/anaconda3/envs/fujitsu/lib/python3.10/site-packages (1.0.0)\n",
      "Requirement already satisfied: numpy in /home/esoteric/anaconda3/envs/fujitsu/lib/python3.10/site-packages (1.23.5)\n",
      "Requirement already satisfied: orjson in /home/esoteric/anaconda3/envs/fujitsu/lib/python3.10/site-packages (3.8.10)\n",
      "Requirement already satisfied: psutil in /home/esoteric/anaconda3/envs/fujitsu/lib/python3.10/site-packages/psutil-5.9.5-py3.10-linux-x86_64.egg (5.9.5)\n",
      "Requirement already satisfied: requests in /home/esoteric/anaconda3/envs/fujitsu/lib/python3.10/site-packages (2.31.0)\n",
      "Requirement already satisfied: charset-normalizer<4,>=2 in /home/esoteric/anaconda3/envs/fujitsu/lib/python3.10/site-packages (from requests) (3.2.0)\n",
      "Requirement already satisfied: idna<4,>=2.5 in /home/esoteric/anaconda3/envs/fujitsu/lib/python3.10/site-packages (from requests) (3.4)\n",
      "Requirement already satisfied: urllib3<3,>=1.21.1 in /home/esoteric/anaconda3/envs/fujitsu/lib/python3.10/site-packages (from requests) (2.0.3)\n",
      "Requirement already satisfied: certifi>=2017.4.17 in /home/esoteric/anaconda3/envs/fujitsu/lib/python3.10/site-packages (from requests) (2023.5.7)\n",
      "Requirement already satisfied: simpleeval in /home/esoteric/anaconda3/envs/fujitsu/lib/python3.10/site-packages (0.9.13)\n",
      "Requirement already satisfied: toolz in /home/esoteric/anaconda3/envs/fujitsu/lib/python3.10/site-packages (0.12.0)\n",
      "Requirement already satisfied: toposort in /home/esoteric/anaconda3/envs/fujitsu/lib/python3.10/site-packages (1.10)\n",
      "Requirement already satisfied: typing-inspect in /home/esoteric/anaconda3/envs/fujitsu/lib/python3.10/site-packages (0.8.0)\n",
      "Requirement already satisfied: mypy-extensions>=0.3.0 in /home/esoteric/anaconda3/envs/fujitsu/lib/python3.10/site-packages (from typing-inspect) (1.0.0)\n",
      "Requirement already satisfied: typing-extensions>=3.7.4 in /home/esoteric/anaconda3/envs/fujitsu/lib/python3.10/site-packages (from typing-inspect) (4.7.1)\n",
      "Requirement already satisfied: typing_extensions in /home/esoteric/anaconda3/envs/fujitsu/lib/python3.10/site-packages (4.7.1)\n",
      "Requirement already satisfied: urllib3 in /home/esoteric/anaconda3/envs/fujitsu/lib/python3.10/site-packages (2.0.3)\n",
      "Requirement already satisfied: websockets in /home/esoteric/anaconda3/envs/fujitsu/lib/python3.10/site-packages (11.0.2)\n",
      "Requirement already satisfied: xlwings in /home/esoteric/anaconda3/envs/fujitsu/lib/python3.10/site-packages (0.30.13)\n"
     ]
    }
   ],
   "source": [
    "# CHECK INSTALL\n",
    "import sys\n",
    "!{sys.executable} -m pip install charset-normalizer\n",
    "!{sys.executable} -m pip install dataclasses\n",
    "!{sys.executable} -m pip install dataclasses-serialization\n",
    "!{sys.executable} -m pip install idna\n",
    "!{sys.executable} -m pip install lxml\n",
    "!{sys.executable} -m pip install more-properties\n",
    "!{sys.executable} -m pip install mypy-extensions\n",
    "!{sys.executable} -m pip install numpy\n",
    "!{sys.executable} -m pip install orjson\n",
    "!{sys.executable} -m pip install psutil\n",
    "!{sys.executable} -m pip install requests\n",
    "!{sys.executable} -m pip install simpleeval\n",
    "!{sys.executable} -m pip install toolz\n",
    "!{sys.executable} -m pip install toposort\n",
    "!{sys.executable} -m pip install typing-inspect\n",
    "!{sys.executable} -m pip install typing_extensions\n",
    "!{sys.executable} -m pip install urllib3\n",
    "!{sys.executable} -m pip install websockets\n",
    "!{sys.executable} -m pip install xlwings"
   ]
  },
  {
   "cell_type": "code",
   "execution_count": 3,
   "metadata": {},
   "outputs": [],
   "source": [
    "# GET THE CONFIG\n",
    "import os\n",
    "from getpass import getpass\n",
    "user1 = os.getenv(\"QUETZALCOATL_USER1\")\n",
    "if user1 is None:\n",
    "    user1 = getpass(\"QUETZALCOATL_USER1\")\n",
    "token1 = os.getenv(\"QUETZALCOATL_TOKEN1\")\n",
    "if token1 is None:\n",
    "    token1 = getpass(\"QUETZALCOATL_TOKEN1\")"
   ]
  },
  {
   "cell_type": "markdown",
   "metadata": {},
   "source": [
    "Here, $ min_ { x1, x2, x2 = 1 \\, and \\,  x1 > 0.2 } (x1-0.1)^2 $ \n",
    "On principle can be handled by different backends, and of course the target is entered via equations\n",
    "(demo only, please contact generic_optimizer@anzetek.com for more)"
   ]
  },
  {
   "cell_type": "code",
   "execution_count": 4,
   "metadata": {},
   "outputs": [
    {
     "name": "stdout",
     "output_type": "stream",
     "text": [
      "SolverProblemSerde(Description=TargetSerde(Terms=[], ForceNBits=[], Parameters={}, Initialization={}), DescriptionString=\"label('l', minimize(list(x1,x2), (x1 - 0.1)**2)) & label('v', x2 == 1.0) & label('v2', x1 > 0.2)\", DescriptionSymbolList=['x1', 'x2'], DescriptionParameters={'l': 1.0, 'v': 100.0, 'v2': 1000.0}, Config={'configSelect': 'gekkoConfig'}, Info=UserTokenSerde(user='user235', token='de8bcde431b4a86b0b053d3dee3cf229e24cf5369cb8a0d09ef3998cb32e6581924aba3e24f239821620e3db2230ef87c48d0dd72e8ab62fd98a9f6c3dc0b695'))\n",
      "{'Description': {'Terms': [], 'ForceNBits': [], 'Parameters': {}, 'Initialization': {}}, 'DescriptionString': \"label('l', minimize(list(x1,x2), (x1 - 0.1)**2)) & label('v', x2 == 1.0) & label('v2', x1 > 0.2)\", 'DescriptionSymbolList': ['x1', 'x2'], 'DescriptionParameters': {'l': 1.0, 'v': 100.0, 'v2': 1000.0}, 'Config': {'configSelect': 'gekkoConfig'}, 'Info': {'user': 'user235', 'token': 'de8bcde431b4a86b0b053d3dee3cf229e24cf5369cb8a0d09ef3998cb32e6581924aba3e24f239821620e3db2230ef87c48d0dd72e8ab62fd98a9f6c3dc0b695'}}\n",
      "toTarget: Target([OptTerm(array([[0., 0.],\n",
      "       [0., 1.]]),array([ 0. , -0.2]),OPT_TERM_MINIMIZE,array([], dtype=float64),'l'), OptTerm(array([[0., 0.],\n",
      "       [0., 0.]]),array([1., 0.]),OPT_TERM_EQ,array([1., 0.]),'v'), OptTerm(array([[0., 0.],\n",
      "       [0., 0.]]),array([0., 1.]),OPT_TERM_GT,array([0. , 0.2]),'v2')],[],{'x2': 0, 'x1': 1},{'x1': 1, 'x2': 1})\n",
      "l <- 1.0\n",
      "v <- 100.0\n",
      "v2 <- 1000.0\n",
      "SolverProblem(Description=Target(Terms=[Min(Coef='l', Embed=Embedding(Name='id', W=array([[1., 0.],\n",
      "       [0., 1.]])), Quadratic=array([[0., 0.],\n",
      "       [0., 1.]]), Linear=array([ 0. , -0.2])), Equal(Coef='v', Embed=Embedding(Name='id', W=array([[1., 0.],\n",
      "       [0., 1.]])), Linear=array([[1., 0.]]), Comparand=array([[1.]])), GreaterThan(Coef='v2', Embed=Embedding(Name='id', W=array([[1., 0.],\n",
      "       [0., 1.]])), Linear=array([[0., 1.]]), Comparand=array([[0.2]]))], ForceNBits=[], Parameters={'l': 1.0, 'v': 100.0, 'v2': 1000.0}, Initialization={}, Interpretation={'x2': <function toTarget.<locals>.makeInterpretation.<locals>.<lambda> at 0x7f6b86315f30>, 'x1': <function toTarget.<locals>.makeInterpretation.<locals>.<lambda> at 0x7f6b86316050>, 'p': <function makeSolverProblem.<locals>.<lambda> at 0x7f6ba4608dc0>}), DescriptionString=\"label('l', minimize(list(x1,x2), (x1 - 0.1)**2)) & label('v', x2 == 1.0) & label('v2', x1 > 0.2)\", DescriptionSymbolList=['x1', 'x2'], DescriptionParameters={'l': 1.0, 'v': 100.0, 'v2': 1000.0}, Config={'configSelect': 'gekkoConfig'}, Info=UserTokenSerde(user='user235', token='de8bcde431b4a86b0b053d3dee3cf229e24cf5369cb8a0d09ef3998cb32e6581924aba3e24f239821620e3db2230ef87c48d0dd72e8ab62fd98a9f6c3dc0b695'))\n",
      "{'Results': {'x2': [1.0], 'x1': [0.2], 'p': [1.0, 0.2]}, 'Status': {'credit': 100, 'message': 'done'}}\n",
      "result= SolverSolution(Results={'x2': array([1.]), 'x1': array([0.2]), 'p': array([1. , 0.2])}, Status=OperationStatusSerde(credit=100, message='done'))\n",
      "SolverSolution(Results={'x2': array([1.]), 'x1': array([0.2]), 'p': array([1. , 0.2])}, Status=OperationStatusSerde(credit=100, message='done'))\n",
      "{'x2': array([1.]), 'x1': array([0.2]), 'p': array([1. , 0.2])}\n",
      "[1.  0.2]\n",
      "[0.2]\n",
      "[1.]\n",
      "ok\n",
      "ok\n",
      "ok\n"
     ]
    }
   ],
   "source": [
    "from LaplaceAPIClient import *\n",
    "import Target as tg\n",
    "from dataclasses_serialization.json import JSONSerializer\n",
    "from numpy import array\n",
    "import os\n",
    "\n",
    "config_m01_03bis = {\n",
    "    \"configSelect\": \"gekkoConfig\"\n",
    "}\n",
    "\n",
    "config_m02_03bis = {\n",
    "    \"configSelect\": \"defaultConfig\",\n",
    "    \"nbits\": 8\n",
    "}\n",
    "\n",
    "q0 = SolverProblem(tg.Target([], [], {}, {}, {}), \n",
    "                   \"label('l', minimize(list(x1,x2), (x1 - 0.1)**2)) & label('v', x2 == 1.0) & label('v2', x1 > 0.2)\", \n",
    "                   ['x1', 'x2'], \n",
    "                   {'l': 1.0, 'v': 100.0, 'v2': 1000.0},\n",
    "                   config_m01_03bis, UserTokenSerde(user1, token1)) # type: ignore\n",
    "q1 = makeSolverProblemSerde(q0)\n",
    "print(q1)\n",
    "print(JSONSerializer.serialize(q1))\n",
    "q2 = makeSolverProblem(q1)\n",
    "print(q2)\n",
    "\n",
    "def queryDone(x: Any) -> None:\n",
    "    print(x)\n",
    "    print(x.Results)\n",
    "    print(x.Results['p'])\n",
    "    print(x.Results['x1'])\n",
    "    print(x.Results['x2'])            \n",
    "    if np.allclose(x.Results['p'], np.array([1.0, 0.2])):\n",
    "        print(\"ok\")\n",
    "    else:\n",
    "        raise Exception('failure')\n",
    "    if np.allclose(x.Results['x1'], np.array([0.2])):\n",
    "        print(\"ok\")\n",
    "    else:\n",
    "        raise Exception('failure x1')\n",
    "    if np.allclose(x.Results['x2'], np.array([1.0])):\n",
    "        print(\"ok\")\n",
    "    else:\n",
    "        raise Exception('failure x2')  \n",
    "\n",
    "pquerySolverProblem(\"https://api2.anzaetek.com:443/execute\", q0, queryDone) "
   ]
  }
 ],
 "metadata": {
  "kernelspec": {
   "display_name": "fujitsu",
   "language": "python",
   "name": "python3"
  },
  "language_info": {
   "codemirror_mode": {
    "name": "ipython",
    "version": 3
   },
   "file_extension": ".py",
   "mimetype": "text/x-python",
   "name": "python",
   "nbconvert_exporter": "python",
   "pygments_lexer": "ipython3",
   "version": "3.10.0"
  }
 },
 "nbformat": 4,
 "nbformat_minor": 2
}
