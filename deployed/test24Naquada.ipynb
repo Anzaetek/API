{
 "cells": [
  {
   "cell_type": "code",
   "execution_count": 1,
   "metadata": {},
   "outputs": [
    {
     "name": "stdout",
     "output_type": "stream",
     "text": [
      "Requirement already satisfied: charset-normalizer in /home/esoteric/anaconda3/envs/fujitsu/lib/python3.10/site-packages (3.2.0)\n",
      "Requirement already satisfied: dataclasses in /home/esoteric/anaconda3/envs/fujitsu/lib/python3.10/site-packages (0.6)\n",
      "Requirement already satisfied: dataclasses-serialization in /home/esoteric/anaconda3/envs/fujitsu/lib/python3.10/site-packages (1.3.1)\n",
      "Requirement already satisfied: dataclasses in /home/esoteric/anaconda3/envs/fujitsu/lib/python3.10/site-packages (from dataclasses-serialization) (0.6)\n",
      "Requirement already satisfied: more-properties>=1.1.0 in /home/esoteric/anaconda3/envs/fujitsu/lib/python3.10/site-packages (from dataclasses-serialization) (1.1.1)\n",
      "Requirement already satisfied: typing-inspect in /home/esoteric/anaconda3/envs/fujitsu/lib/python3.10/site-packages (from dataclasses-serialization) (0.8.0)\n",
      "Requirement already satisfied: toolz in /home/esoteric/anaconda3/envs/fujitsu/lib/python3.10/site-packages (from dataclasses-serialization) (0.12.0)\n",
      "Requirement already satisfied: toposort in /home/esoteric/anaconda3/envs/fujitsu/lib/python3.10/site-packages (from dataclasses-serialization) (1.10)\n",
      "Requirement already satisfied: mypy-extensions>=0.3.0 in /home/esoteric/anaconda3/envs/fujitsu/lib/python3.10/site-packages (from typing-inspect->dataclasses-serialization) (1.0.0)\n",
      "Requirement already satisfied: typing-extensions>=3.7.4 in /home/esoteric/anaconda3/envs/fujitsu/lib/python3.10/site-packages (from typing-inspect->dataclasses-serialization) (4.7.1)\n",
      "Requirement already satisfied: idna in /home/esoteric/anaconda3/envs/fujitsu/lib/python3.10/site-packages (3.4)\n",
      "Requirement already satisfied: lxml in /home/esoteric/anaconda3/envs/fujitsu/lib/python3.10/site-packages (4.9.4)\n",
      "Requirement already satisfied: more-properties in /home/esoteric/anaconda3/envs/fujitsu/lib/python3.10/site-packages (1.1.1)\n",
      "Requirement already satisfied: dataclasses in /home/esoteric/anaconda3/envs/fujitsu/lib/python3.10/site-packages (from more-properties) (0.6)\n",
      "Requirement already satisfied: mypy-extensions in /home/esoteric/anaconda3/envs/fujitsu/lib/python3.10/site-packages (1.0.0)\n",
      "Requirement already satisfied: numpy in /home/esoteric/anaconda3/envs/fujitsu/lib/python3.10/site-packages (1.23.5)\n",
      "Requirement already satisfied: orjson in /home/esoteric/anaconda3/envs/fujitsu/lib/python3.10/site-packages (3.8.10)\n",
      "Requirement already satisfied: psutil in /home/esoteric/anaconda3/envs/fujitsu/lib/python3.10/site-packages/psutil-5.9.5-py3.10-linux-x86_64.egg (5.9.5)\n",
      "Requirement already satisfied: requests in /home/esoteric/anaconda3/envs/fujitsu/lib/python3.10/site-packages (2.31.0)\n",
      "Requirement already satisfied: charset-normalizer<4,>=2 in /home/esoteric/anaconda3/envs/fujitsu/lib/python3.10/site-packages (from requests) (3.2.0)\n",
      "Requirement already satisfied: idna<4,>=2.5 in /home/esoteric/anaconda3/envs/fujitsu/lib/python3.10/site-packages (from requests) (3.4)\n",
      "Requirement already satisfied: urllib3<3,>=1.21.1 in /home/esoteric/anaconda3/envs/fujitsu/lib/python3.10/site-packages (from requests) (2.0.3)\n",
      "Requirement already satisfied: certifi>=2017.4.17 in /home/esoteric/anaconda3/envs/fujitsu/lib/python3.10/site-packages (from requests) (2023.5.7)\n",
      "Requirement already satisfied: simpleeval in /home/esoteric/anaconda3/envs/fujitsu/lib/python3.10/site-packages (0.9.13)\n",
      "Requirement already satisfied: toolz in /home/esoteric/anaconda3/envs/fujitsu/lib/python3.10/site-packages (0.12.0)\n",
      "Requirement already satisfied: toposort in /home/esoteric/anaconda3/envs/fujitsu/lib/python3.10/site-packages (1.10)\n",
      "Requirement already satisfied: typing-inspect in /home/esoteric/anaconda3/envs/fujitsu/lib/python3.10/site-packages (0.8.0)\n",
      "Requirement already satisfied: mypy-extensions>=0.3.0 in /home/esoteric/anaconda3/envs/fujitsu/lib/python3.10/site-packages (from typing-inspect) (1.0.0)\n",
      "Requirement already satisfied: typing-extensions>=3.7.4 in /home/esoteric/anaconda3/envs/fujitsu/lib/python3.10/site-packages (from typing-inspect) (4.7.1)\n",
      "Requirement already satisfied: typing_extensions in /home/esoteric/anaconda3/envs/fujitsu/lib/python3.10/site-packages (4.7.1)\n",
      "Requirement already satisfied: urllib3 in /home/esoteric/anaconda3/envs/fujitsu/lib/python3.10/site-packages (2.0.3)\n",
      "Requirement already satisfied: websockets in /home/esoteric/anaconda3/envs/fujitsu/lib/python3.10/site-packages (11.0.2)\n",
      "Requirement already satisfied: xlwings in /home/esoteric/anaconda3/envs/fujitsu/lib/python3.10/site-packages (0.30.13)\n"
     ]
    }
   ],
   "source": [
    "import sys\n",
    "!{sys.executable} -m pip install charset-normalizer\n",
    "!{sys.executable} -m pip install dataclasses\n",
    "!{sys.executable} -m pip install dataclasses-serialization\n",
    "!{sys.executable} -m pip install idna\n",
    "!{sys.executable} -m pip install lxml\n",
    "!{sys.executable} -m pip install more-properties\n",
    "!{sys.executable} -m pip install mypy-extensions\n",
    "!{sys.executable} -m pip install numpy\n",
    "!{sys.executable} -m pip install orjson\n",
    "!{sys.executable} -m pip install psutil\n",
    "!{sys.executable} -m pip install requests\n",
    "!{sys.executable} -m pip install simpleeval\n",
    "!{sys.executable} -m pip install toolz\n",
    "!{sys.executable} -m pip install toposort\n",
    "!{sys.executable} -m pip install typing-inspect\n",
    "!{sys.executable} -m pip install typing_extensions\n",
    "!{sys.executable} -m pip install urllib3\n",
    "!{sys.executable} -m pip install websockets\n",
    "!{sys.executable} -m pip install xlwings"
   ]
  },
  {
   "cell_type": "code",
   "execution_count": 2,
   "metadata": {},
   "outputs": [],
   "source": [
    "# GET THE CONFIG\n",
    "import utils\n",
    "user1 = utils.getenvcached(\"QUETZALCOATL_USER1\")\n",
    "token1 = utils.getenvcached(\"QUETZALCOATL_TOKEN1\")"
   ]
  },
  {
   "cell_type": "markdown",
   "metadata": {},
   "source": [
    "This example shows a VQA-style QUBO optimization on a quantum optic device or simulator, using our languages Naquada and OpticQASM.\n",
    "Please contact optics@anzaetek.com if interested."
   ]
  },
  {
   "cell_type": "code",
   "execution_count": 3,
   "metadata": {},
   "outputs": [
    {
     "name": "stdout",
     "output_type": "stream",
     "text": [
      "{\"samples\": {\"naquada\": [[[0, 3], [[[1, 0, 0], -1.0, 380], [[0, 1, 0], -1.1, 15], [[0, 0, 1], -0.6, 603], [[1, 1, 1], 5.8999999999999995, 2]]], [[0, 2], [[[0, 0, 0], 0.0, 2], [[1, 1, 0], -1.7000000000000002, 988], [[1, 0, 1], 2.4, 2], [[0, 1, 1], 2.5, 8]]], [[1, 3], [[[1, 1, 0], -1.7000000000000002, 1000]]], [[1, 2], [[[1, 1, 1], 5.8999999999999995, 4], [[0, 0, 1], -0.6, 12], [[0, 1, 0], -1.1, 932], [[1, 0, 0], -1.0, 52]]]]}}\n",
      "result= {\"samples\": {\"naquada\": [[[0, 3], [[[1, 0, 0], -1.0, 380], [[0, 1, 0], -1.1, 15], [[0, 0, 1], -0.6, 603], [[1, 1, 1], 5.8999999999999995, 2]]], [[0, 2], [[[0, 0, 0], 0.0, 2], [[1, 1, 0], -1.7000000000000002, 988], [[1, 0, 1], 2.4, 2], [[0, 1, 1], 2.5, 8]]], [[1, 3], [[[1, 1, 0], -1.7000000000000002, 1000]]], [[1, 2], [[[1, 1, 1], 5.8999999999999995, 4], [[0, 0, 1], -0.6, 12], [[0, 1, 0], -1.1, 932], [[1, 0, 0], -1.0, 52]]]]}}\n",
      "best:  [1, 1, 0] energy @ -1.7000000000000002\n"
     ]
    }
   ],
   "source": [
    "from LaplaceAPIClient import *\n",
    "import os\n",
    "import json \n",
    "\n",
    "code = \"\"\"\n",
    "section .config\n",
    "photon-number: 3\n",
    "shots: 1000\n",
    "max-shots: 10000\n",
    "\n",
    "section .driver\n",
    "qubo [[-1.0,0.2,2.0], \\\n",
    "      [0.2,-1.1,2.1], \\\n",
    "      [2.0, 2.1,-0.6]];\n",
    "driver \"SLOS\";\n",
    "// \"SLOS\";\n",
    "// \"qpu:ascella\";\n",
    "// \"sim:slos\";\n",
    "// \"sim:ascella\";\n",
    "filter-heuristic none;\n",
    "optimize $all;\n",
    "section .openoqasm\n",
    "OPTICQASM 1.0;\n",
    "generic_interferometer ps($phi) bs_rx($theta, $phi_tr) q[0], q[1], q[2], q[3];\n",
    "\n",
    "\"\"\"\n",
    "\n",
    "circuit1 = code \n",
    "url = \"https://api2.anzaetek.com:443/execute\"\n",
    "\n",
    "def interpret_result(y):\n",
    "    x = json.loads(y)\n",
    "    #print(repr(x))\n",
    "    #print(repr(x[\"samples\"]))\n",
    "    #print(x[\"samples\"][\"naquada\"])\n",
    "    bestX = []\n",
    "    bestE = 0.0\n",
    "    for n in x[\"samples\"][\"naquada\"]:\n",
    "        #print(repr(n), n[1])\n",
    "        for k in n[1]:\n",
    "            #print(k)\n",
    "            if k[1] < bestE:\n",
    "                bestE = k[1]\n",
    "                bestX = k[0]\n",
    "    print(\"best: \", bestX, \"energy @\", bestE)\n",
    "\n",
    "pqueryAssembly(url, UserTokenSerde(user1, token1), 1, \"perceval\", {\"naquada\":1}, circuit1, 1000, interpret_result) # type: ignore\n"
   ]
  }
 ],
 "metadata": {
  "kernelspec": {
   "display_name": "fujitsu",
   "language": "python",
   "name": "python3"
  },
  "language_info": {
   "codemirror_mode": {
    "name": "ipython",
    "version": 3
   },
   "file_extension": ".py",
   "mimetype": "text/x-python",
   "name": "python",
   "nbconvert_exporter": "python",
   "pygments_lexer": "ipython3",
   "version": "3.10.0"
  }
 },
 "nbformat": 4,
 "nbformat_minor": 2
}
