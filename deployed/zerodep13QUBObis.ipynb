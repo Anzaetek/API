{
 "cells": [
  {
   "cell_type": "code",
   "execution_count": 12,
   "metadata": {},
   "outputs": [
    {
     "name": "stdout",
     "output_type": "stream",
     "text": [
      "Requirement already satisfied: requests in /home/esoteric/anaconda3/envs/fujitsu/lib/python3.10/site-packages (2.31.0)\n",
      "Requirement already satisfied: charset-normalizer<4,>=2 in /home/esoteric/anaconda3/envs/fujitsu/lib/python3.10/site-packages (from requests) (3.2.0)\n",
      "Requirement already satisfied: idna<4,>=2.5 in /home/esoteric/anaconda3/envs/fujitsu/lib/python3.10/site-packages (from requests) (3.4)\n",
      "Requirement already satisfied: urllib3<3,>=1.21.1 in /home/esoteric/anaconda3/envs/fujitsu/lib/python3.10/site-packages (from requests) (2.0.3)\n",
      "Requirement already satisfied: certifi>=2017.4.17 in /home/esoteric/anaconda3/envs/fujitsu/lib/python3.10/site-packages (from requests) (2023.5.7)\n"
     ]
    }
   ],
   "source": [
    "import sys\n",
    "!{sys.executable} -m pip install requests"
   ]
  },
  {
   "cell_type": "code",
   "execution_count": 13,
   "metadata": {},
   "outputs": [],
   "source": [
    "# GET THE CONFIG\n",
    "import utils\n",
    "user1 = utils.getenvcached(\"QUETZALCOATL_USER1\")\n",
    "token1 = utils.getenvcached(\"QUETZALCOATL_TOKEN1\")"
   ]
  },
  {
   "cell_type": "markdown",
   "metadata": {},
   "source": [
    "We will solve: $ min_{x \\ {0,1}^n }  x^t . Q. t $"
   ]
  },
  {
   "cell_type": "code",
   "execution_count": 14,
   "metadata": {},
   "outputs": [],
   "source": [
    "qubo13 = [\n",
    "    [0.0, -1.0,  4.0],\n",
    "    [-1.0, 5.0, -9.0],\n",
    "    [4.0, -9.0, -5.0]\n",
    "]\n",
    "config = {\n",
    "    \"backend\":\"JuliaQUBOBackend\",\n",
    "    \"nshots\":1\n",
    "}"
   ]
  },
  {
   "cell_type": "code",
   "execution_count": 15,
   "metadata": {},
   "outputs": [],
   "source": [
    "import requests\n",
    "import json\n",
    "\n",
    "url = \"https://api2.anzaetek.com:443/execute\"\n",
    "\n",
    "def query13(config, qubo13):\n",
    "    q = { \n",
    "        \"__class__\":\"QUBOSolverProblem\", \n",
    "        \"query\": {\n",
    "                \"Qubo\":{\"W\":qubo13},\n",
    "                \"Config\": config,\n",
    "                \"Info\":{\"user\":user1,\"token\":token1}\n",
    "            }\n",
    "        }\n",
    "    query = { 'user': user1, 'token': token1, 'query': json.dumps(q) }\n",
    "    post_response = requests.post(url = url, json=query)\n",
    "    rv = post_response.json()\n",
    "    #print(rv)\n",
    "    return rv['Results']['bestBinaryVector']\n"
   ]
  },
  {
   "cell_type": "code",
   "execution_count": 19,
   "metadata": {},
   "outputs": [
    {
     "name": "stdout",
     "output_type": "stream",
     "text": [
      "[0.0, 1.0, 1.0]\n"
     ]
    }
   ],
   "source": [
    "v = query13(config, qubo13)\n",
    "print(v)"
   ]
  },
  {
   "cell_type": "markdown",
   "metadata": {},
   "source": [
    "The last result is one minimizer."
   ]
  }
 ],
 "metadata": {
  "kernelspec": {
   "display_name": "fujitsu",
   "language": "python",
   "name": "python3"
  },
  "language_info": {
   "codemirror_mode": {
    "name": "ipython",
    "version": 3
   },
   "file_extension": ".py",
   "mimetype": "text/x-python",
   "name": "python",
   "nbconvert_exporter": "python",
   "pygments_lexer": "ipython3",
   "version": "3.10.0"
  }
 },
 "nbformat": 4,
 "nbformat_minor": 2
}
