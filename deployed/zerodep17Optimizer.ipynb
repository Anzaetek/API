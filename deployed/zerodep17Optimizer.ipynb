{
 "cells": [
  {
   "cell_type": "code",
   "execution_count": 1,
   "metadata": {},
   "outputs": [
    {
     "name": "stdout",
     "output_type": "stream",
     "text": [
      "Requirement already satisfied: requests in /home/esoteric/anaconda3/envs/anzaetek/lib/python3.10/site-packages (2.31.0)\n",
      "Requirement already satisfied: charset-normalizer<4,>=2 in /home/esoteric/anaconda3/envs/anzaetek/lib/python3.10/site-packages (from requests) (3.3.2)\n",
      "Requirement already satisfied: idna<4,>=2.5 in /home/esoteric/anaconda3/envs/anzaetek/lib/python3.10/site-packages (from requests) (3.6)\n",
      "Requirement already satisfied: urllib3<3,>=1.21.1 in /home/esoteric/anaconda3/envs/anzaetek/lib/python3.10/site-packages (from requests) (2.1.0)\n",
      "Requirement already satisfied: certifi>=2017.4.17 in /home/esoteric/anaconda3/envs/anzaetek/lib/python3.10/site-packages (from requests) (2023.11.17)\n"
     ]
    }
   ],
   "source": [
    "import sys\n",
    "!{sys.executable} -m pip install requests"
   ]
  },
  {
   "cell_type": "code",
   "execution_count": 2,
   "metadata": {},
   "outputs": [],
   "source": [
    "# GET THE CONFIG\n",
    "import utils\n",
    "user1 = utils.getenvcached(\"QUETZALCOATL_USER1\")\n",
    "token1 = utils.getenvcached(\"QUETZALCOATL_TOKEN1\")"
   ]
  },
  {
   "cell_type": "markdown",
   "metadata": {},
   "source": [
    "Here, $ min_ { x1, x2, x2 = 1 \\, and \\,  x1 > 0.2 } (x1-0.1)^2 $ \n",
    "On principle can be handled by different backends, and of course the target is entered via equations\n",
    "(demo only, please contact generic_optimizer@anzetek.com for more)"
   ]
  },
  {
   "cell_type": "code",
   "execution_count": 3,
   "metadata": {},
   "outputs": [],
   "source": [
    "config = {\"configSelect\":\"gekkoConfig\"}\n",
    "target = \"label('l', minimize(list(x1,x2), (x1 - 0.1)**2)) & label('v', x2 == 1.0) & label('v2', x1 > 0.2)\"\n",
    "symbols = [\"x1\",\"x2\"]\n",
    "weights = {\"l\":1.0,\"v\":100.0,\"v2\":1000.0}"
   ]
  },
  {
   "cell_type": "code",
   "execution_count": 4,
   "metadata": {},
   "outputs": [],
   "source": [
    "import requests\n",
    "import json\n",
    "\n",
    "url = \"https://api2.anzaetek.com:443/execute\"\n",
    "\n",
    "def query17(config, target, symbols, weights):\n",
    "    q = { \n",
    "        \"__class__\":\"SolverProblem\", \n",
    "        \"query\":{ \"Description\":{\"Terms\":[],\"ForceNBits\":[],\"Parameters\":{},\"Initialization\":{}},\n",
    "                \"DescriptionString\":target,\n",
    "                \"DescriptionSymbolList\":symbols,\n",
    "                \"DescriptionParameters\":weights,\n",
    "                \"Config\":config,\n",
    "                \"Info\":{\"user\":user1,\"token\":token1}}}\n",
    "    query = {'user': user1, \n",
    "            'token': token1, \n",
    "            'query': json.dumps(q)}\n",
    "    post_response = requests.post(url = url, json=query)\n",
    "    rv = post_response.json()\n",
    "    #print(rv)\n",
    "    return { k: rv['Results'][k] for k in symbols }\n",
    "\n"
   ]
  },
  {
   "cell_type": "code",
   "execution_count": 5,
   "metadata": {},
   "outputs": [
    {
     "name": "stdout",
     "output_type": "stream",
     "text": [
      "{'x1': [0.2], 'x2': [1.0]}\n"
     ]
    }
   ],
   "source": [
    "v = query17(config, target, symbols, weights)\n",
    "print(v)"
   ]
  },
  {
   "cell_type": "markdown",
   "metadata": {},
   "source": [
    "We then run the same problem with a QUBO solver. Here numbers are encoded with 8bit precision. While QUBO based optimizers can explore arbitrarily non-convex problems, solutions will be approximate."
   ]
  },
  {
   "cell_type": "code",
   "execution_count": 8,
   "metadata": {},
   "outputs": [],
   "source": [
    "config = {\"configSelect\":\"JuliaConfig\"}\n",
    "target = \"label('l', minimize(list(x1,x2), (x1 - 0.1)**2)) & label('v', x2 == 1.0) & label('v2', x1 > 0.2)\"\n",
    "symbols = [\"x1\",\"x2\"]\n",
    "weights = {\"l\":1.0,\"v\":100.0,\"v2\":1000.0}"
   ]
  },
  {
   "cell_type": "code",
   "execution_count": 9,
   "metadata": {},
   "outputs": [
    {
     "name": "stdout",
     "output_type": "stream",
     "text": [
      "{'x1': [0.19921875], 'x2': [0.99609375]}\n"
     ]
    }
   ],
   "source": [
    "v = query17(config, target, symbols, weights)\n",
    "print(v)"
   ]
  }
 ],
 "metadata": {
  "kernelspec": {
   "display_name": "fujitsu",
   "language": "python",
   "name": "python3"
  },
  "language_info": {
   "codemirror_mode": {
    "name": "ipython",
    "version": 3
   },
   "file_extension": ".py",
   "mimetype": "text/x-python",
   "name": "python",
   "nbconvert_exporter": "python",
   "pygments_lexer": "ipython3",
   "version": "3.10.0"
  }
 },
 "nbformat": 4,
 "nbformat_minor": 2
}
