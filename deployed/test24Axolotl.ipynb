{
 "cells": [
  {
   "cell_type": "code",
   "execution_count": 1,
   "metadata": {},
   "outputs": [
    {
     "name": "stdout",
     "output_type": "stream",
     "text": [
      "Requirement already satisfied: charset-normalizer in /home/esoteric/anaconda3/envs/fujitsu/lib/python3.10/site-packages (3.2.0)\n",
      "Requirement already satisfied: dataclasses in /home/esoteric/anaconda3/envs/fujitsu/lib/python3.10/site-packages (0.6)\n",
      "Requirement already satisfied: dataclasses-serialization in /home/esoteric/anaconda3/envs/fujitsu/lib/python3.10/site-packages (1.3.1)\n",
      "Requirement already satisfied: dataclasses in /home/esoteric/anaconda3/envs/fujitsu/lib/python3.10/site-packages (from dataclasses-serialization) (0.6)\n",
      "Requirement already satisfied: more-properties>=1.1.0 in /home/esoteric/anaconda3/envs/fujitsu/lib/python3.10/site-packages (from dataclasses-serialization) (1.1.1)\n",
      "Requirement already satisfied: typing-inspect in /home/esoteric/anaconda3/envs/fujitsu/lib/python3.10/site-packages (from dataclasses-serialization) (0.8.0)\n",
      "Requirement already satisfied: toolz in /home/esoteric/anaconda3/envs/fujitsu/lib/python3.10/site-packages (from dataclasses-serialization) (0.12.0)\n",
      "Requirement already satisfied: toposort in /home/esoteric/anaconda3/envs/fujitsu/lib/python3.10/site-packages (from dataclasses-serialization) (1.10)\n",
      "Requirement already satisfied: mypy-extensions>=0.3.0 in /home/esoteric/anaconda3/envs/fujitsu/lib/python3.10/site-packages (from typing-inspect->dataclasses-serialization) (1.0.0)\n",
      "Requirement already satisfied: typing-extensions>=3.7.4 in /home/esoteric/anaconda3/envs/fujitsu/lib/python3.10/site-packages (from typing-inspect->dataclasses-serialization) (4.7.1)\n",
      "Requirement already satisfied: idna in /home/esoteric/anaconda3/envs/fujitsu/lib/python3.10/site-packages (3.4)\n",
      "Requirement already satisfied: lxml in /home/esoteric/anaconda3/envs/fujitsu/lib/python3.10/site-packages (4.9.4)\n",
      "Requirement already satisfied: more-properties in /home/esoteric/anaconda3/envs/fujitsu/lib/python3.10/site-packages (1.1.1)\n",
      "Requirement already satisfied: dataclasses in /home/esoteric/anaconda3/envs/fujitsu/lib/python3.10/site-packages (from more-properties) (0.6)\n",
      "Requirement already satisfied: mypy-extensions in /home/esoteric/anaconda3/envs/fujitsu/lib/python3.10/site-packages (1.0.0)\n",
      "Requirement already satisfied: numpy in /home/esoteric/anaconda3/envs/fujitsu/lib/python3.10/site-packages (1.23.5)\n",
      "Requirement already satisfied: orjson in /home/esoteric/anaconda3/envs/fujitsu/lib/python3.10/site-packages (3.8.10)\n",
      "Requirement already satisfied: psutil in /home/esoteric/anaconda3/envs/fujitsu/lib/python3.10/site-packages/psutil-5.9.5-py3.10-linux-x86_64.egg (5.9.5)\n",
      "Requirement already satisfied: requests in /home/esoteric/anaconda3/envs/fujitsu/lib/python3.10/site-packages (2.31.0)\n",
      "Requirement already satisfied: charset-normalizer<4,>=2 in /home/esoteric/anaconda3/envs/fujitsu/lib/python3.10/site-packages (from requests) (3.2.0)\n",
      "Requirement already satisfied: idna<4,>=2.5 in /home/esoteric/anaconda3/envs/fujitsu/lib/python3.10/site-packages (from requests) (3.4)\n",
      "Requirement already satisfied: urllib3<3,>=1.21.1 in /home/esoteric/anaconda3/envs/fujitsu/lib/python3.10/site-packages (from requests) (2.0.3)\n",
      "Requirement already satisfied: certifi>=2017.4.17 in /home/esoteric/anaconda3/envs/fujitsu/lib/python3.10/site-packages (from requests) (2023.5.7)\n",
      "Requirement already satisfied: simpleeval in /home/esoteric/anaconda3/envs/fujitsu/lib/python3.10/site-packages (0.9.13)\n",
      "Requirement already satisfied: toolz in /home/esoteric/anaconda3/envs/fujitsu/lib/python3.10/site-packages (0.12.0)\n",
      "Requirement already satisfied: toposort in /home/esoteric/anaconda3/envs/fujitsu/lib/python3.10/site-packages (1.10)\n",
      "Requirement already satisfied: typing-inspect in /home/esoteric/anaconda3/envs/fujitsu/lib/python3.10/site-packages (0.8.0)\n",
      "Requirement already satisfied: mypy-extensions>=0.3.0 in /home/esoteric/anaconda3/envs/fujitsu/lib/python3.10/site-packages (from typing-inspect) (1.0.0)\n",
      "Requirement already satisfied: typing-extensions>=3.7.4 in /home/esoteric/anaconda3/envs/fujitsu/lib/python3.10/site-packages (from typing-inspect) (4.7.1)\n",
      "Requirement already satisfied: typing_extensions in /home/esoteric/anaconda3/envs/fujitsu/lib/python3.10/site-packages (4.7.1)\n",
      "Requirement already satisfied: urllib3 in /home/esoteric/anaconda3/envs/fujitsu/lib/python3.10/site-packages (2.0.3)\n",
      "Requirement already satisfied: websockets in /home/esoteric/anaconda3/envs/fujitsu/lib/python3.10/site-packages (11.0.2)\n",
      "Requirement already satisfied: numpyencoder in /home/esoteric/anaconda3/envs/fujitsu/lib/python3.10/site-packages (0.3.0)\n",
      "Requirement already satisfied: numpy>=1.14.3 in /home/esoteric/anaconda3/envs/fujitsu/lib/python3.10/site-packages (from numpyencoder) (1.23.5)\n",
      "Requirement already satisfied: xlwings in /home/esoteric/anaconda3/envs/fujitsu/lib/python3.10/site-packages (0.30.13)\n"
     ]
    }
   ],
   "source": [
    "import sys\n",
    "!{sys.executable} -m pip install charset-normalizer\n",
    "!{sys.executable} -m pip install dataclasses\n",
    "!{sys.executable} -m pip install dataclasses-serialization\n",
    "!{sys.executable} -m pip install idna\n",
    "!{sys.executable} -m pip install lxml\n",
    "!{sys.executable} -m pip install more-properties\n",
    "!{sys.executable} -m pip install mypy-extensions\n",
    "!{sys.executable} -m pip install numpy\n",
    "!{sys.executable} -m pip install orjson\n",
    "!{sys.executable} -m pip install psutil\n",
    "!{sys.executable} -m pip install requests\n",
    "!{sys.executable} -m pip install simpleeval\n",
    "!{sys.executable} -m pip install toolz\n",
    "!{sys.executable} -m pip install toposort\n",
    "!{sys.executable} -m pip install typing-inspect\n",
    "!{sys.executable} -m pip install typing_extensions\n",
    "!{sys.executable} -m pip install urllib3\n",
    "!{sys.executable} -m pip install websockets\n",
    "!{sys.executable} -m pip install numpyencoder\n",
    "!{sys.executable} -m pip install xlwings"
   ]
  },
  {
   "cell_type": "code",
   "execution_count": 2,
   "metadata": {},
   "outputs": [],
   "source": [
    "# GET THE CONFIG\n",
    "import utils\n",
    "user1 = utils.getenvcached(\"QUETZALCOATL_USER1\")\n",
    "token1 = utils.getenvcached(\"QUETZALCOATL_TOKEN1\")"
   ]
  },
  {
   "cell_type": "markdown",
   "metadata": {},
   "source": [
    "This example shows a VQA-style QUBO optimization using our DSL, Axolotl."
   ]
  },
  {
   "cell_type": "code",
   "execution_count": 3,
   "metadata": {},
   "outputs": [
    {
     "name": "stdout",
     "output_type": "stream",
     "text": [
      "[\"101010\",-25.24610457247937]\n",
      "result= [\"101010\",-25.24610457247937]\n",
      "[\"101010\",-25.24610457247937]\n"
     ]
    }
   ],
   "source": [
    "from LaplaceAPIClient import *\n",
    "import os\n",
    "import json \n",
    "\n",
    "code = \"\"\"\n",
    "let qubomatrix = [\n",
    "      [\n",
    "        -10.992680373440555,\n",
    "        3.1207718881750637,\n",
    "        1.5603859440875318,\n",
    "        1.5603831773087988,\n",
    "        3.1207663546175977,\n",
    "        1.5603831773087988\n",
    "      ],\n",
    "      [\n",
    "        3.1207718881750637,\n",
    "        -18.864588858706046,\n",
    "        3.1207718881750637,\n",
    "        3.1207663546175977,\n",
    "        6.241532709235195,\n",
    "        3.1207663546175977\n",
    "      ],\n",
    "      [\n",
    "        1.5603859440875318,\n",
    "        3.1207718881750637,\n",
    "        -10.992680373440555,\n",
    "        1.5603831773087988,\n",
    "        3.1207663546175977,\n",
    "        1.5603831773087988\n",
    "      ],\n",
    "      [\n",
    "        1.5603831773087988,\n",
    "        3.1207663546175977,\n",
    "        1.5603831773087988,\n",
    "        -10.992686168287307,\n",
    "        3.1207912043308967,\n",
    "        1.5603956021654484\n",
    "      ],\n",
    "      [\n",
    "        3.1207663546175977,\n",
    "        6.241532709235195,\n",
    "        3.1207663546175977,\n",
    "        3.1207912043308967,\n",
    "        -18.864581132243714,\n",
    "        3.1207912043308967\n",
    "      ],\n",
    "      [\n",
    "        1.5603831773087988,\n",
    "        3.1207663546175977,\n",
    "        1.5603831773087988,\n",
    "        1.5603956021654484,\n",
    "        3.1207912043308967,\n",
    "        -10.992686168287307\n",
    "      ]\n",
    "    ] in \n",
    "let num_qubits = 6 in \n",
    "let samples = 400 in \n",
    "let x0 = [0.5,0.5,0.5,0.5,0.5,0.5,0.5,0.5,0.5,0.5,0.5,0.5,0.5,0.5,0.5,0.5,0.5,0.5,0.5,0.5,0.5,0.5,0.5,0.5] in\n",
    "vqeQUBO(x0,qubomatrix,num_qubits,samples)\n",
    "\"\"\"\n",
    "\n",
    "circuit1 = code \n",
    "url = \"https://api2.anzaetek.com:443/execute\"\n",
    "pqueryAxolotl(url, UserTokenSerde(user1, token1), code, {}, lambda x: print(x)) # type: ignore\n"
   ]
  }
 ],
 "metadata": {
  "kernelspec": {
   "display_name": "fujitsu",
   "language": "python",
   "name": "python3"
  },
  "language_info": {
   "codemirror_mode": {
    "name": "ipython",
    "version": 3
   },
   "file_extension": ".py",
   "mimetype": "text/x-python",
   "name": "python",
   "nbconvert_exporter": "python",
   "pygments_lexer": "ipython3",
   "version": "3.10.0"
  }
 },
 "nbformat": 4,
 "nbformat_minor": 2
}
