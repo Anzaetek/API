{
 "cells": [
  {
   "cell_type": "code",
   "execution_count": 7,
   "metadata": {},
   "outputs": [
    {
     "name": "stdout",
     "output_type": "stream",
     "text": [
      "Requirement already satisfied: requests in /home/esoteric/anaconda3/envs/fujitsu/lib/python3.10/site-packages (2.31.0)\n",
      "Requirement already satisfied: charset-normalizer<4,>=2 in /home/esoteric/anaconda3/envs/fujitsu/lib/python3.10/site-packages (from requests) (3.2.0)\n",
      "Requirement already satisfied: idna<4,>=2.5 in /home/esoteric/anaconda3/envs/fujitsu/lib/python3.10/site-packages (from requests) (3.4)\n",
      "Requirement already satisfied: urllib3<3,>=1.21.1 in /home/esoteric/anaconda3/envs/fujitsu/lib/python3.10/site-packages (from requests) (2.0.3)\n",
      "Requirement already satisfied: certifi>=2017.4.17 in /home/esoteric/anaconda3/envs/fujitsu/lib/python3.10/site-packages (from requests) (2023.5.7)\n"
     ]
    }
   ],
   "source": [
    "import sys\n",
    "!{sys.executable} -m pip install requests"
   ]
  },
  {
   "cell_type": "code",
   "execution_count": 8,
   "metadata": {},
   "outputs": [],
   "source": [
    "# GET THE CONFIG\n",
    "import utils\n",
    "user1 = utils.getenvcached(\"QUETZALCOATL_USER1\")\n",
    "token1 = utils.getenvcached(\"QUETZALCOATL_TOKEN1\")"
   ]
  },
  {
   "cell_type": "code",
   "execution_count": 9,
   "metadata": {},
   "outputs": [],
   "source": [
    "code = \"\"\"\n",
    "section .config\n",
    "photon-number: 3\n",
    "shots: 1000\n",
    "max-shots: 10000\n",
    "\n",
    "section .driver\n",
    "qubo [[-1.0,0.2,2.0], \\\n",
    "      [0.2,-1.1,2.1], \\\n",
    "      [2.0, 2.1,-0.6]];\n",
    "driver \"SLOS\";\n",
    "// \"SLOS\";\n",
    "// \"qpu:ascella\";\n",
    "// \"sim:slos\";\n",
    "// \"sim:ascella\";\n",
    "filter-heuristic none;\n",
    "optimize $all;\n",
    "section .openoqasm\n",
    "OPTICQASM 1.0;\n",
    "generic_interferometer ps($phi) bs_rx($theta, $phi_tr) q[0], q[1], q[2];\n",
    "\"\"\""
   ]
  },
  {
   "cell_type": "code",
   "execution_count": 10,
   "metadata": {},
   "outputs": [],
   "source": [
    "executor = \"perceval\"\n",
    "nqubits = 1\n",
    "config = {\"naquada\":1}\n",
    "nshots = 1000"
   ]
  },
  {
   "cell_type": "code",
   "execution_count": 11,
   "metadata": {},
   "outputs": [],
   "source": [
    "import requests\n",
    "import json\n",
    "\n",
    "url = \"https://api2.anzaetek.com:443/execute\"\n",
    "\n",
    "def query24(executor, nqubits, config, nshots, circuit):\n",
    "    q = {\"__class__\": \"Assembly\", \n",
    "        \"nqubits\": nqubits, \n",
    "        \"executor\": executor, \n",
    "        \"config\": config, \n",
    "        \"circuit\": circuit, \n",
    "        \"nshots\": nshots, \n",
    "        \"user\": user1, \n",
    "        \"token\": token1}\n",
    "    query = {\n",
    "        'user': user1, \n",
    "        'token': token1, \n",
    "        'query': json.dumps(q)}\n",
    "\n",
    "    post_response = requests.post(url = url, json=query)\n",
    "    rv = post_response.json()\n",
    "    #print(rv)\n",
    "    x = json.loads(rv)\n",
    "    bestX = []\n",
    "    bestE = 0.0\n",
    "    for n in x[\"samples\"][\"naquada\"]:\n",
    "        #print(repr(n), n[1])\n",
    "        for k in n[1]:\n",
    "            #print(k)\n",
    "            if k[1] < bestE:\n",
    "                bestE = k[1]\n",
    "                bestX = k[0]\n",
    "    print(\"best: \", bestX, \"energy @\", bestE)\n",
    "    return bestX, bestE"
   ]
  },
  {
   "cell_type": "code",
   "execution_count": 12,
   "metadata": {},
   "outputs": [
    {
     "name": "stdout",
     "output_type": "stream",
     "text": [
      "best:  [1, 1, 0] energy @ -1.7000000000000002\n",
      "([1, 1, 0], -1.7000000000000002)\n"
     ]
    }
   ],
   "source": [
    "res = query24(executor, nqubits, config, nshots, code)\n",
    "print(repr(res))"
   ]
  }
 ],
 "metadata": {
  "kernelspec": {
   "display_name": "fujitsu",
   "language": "python",
   "name": "python3"
  },
  "language_info": {
   "codemirror_mode": {
    "name": "ipython",
    "version": 3
   },
   "file_extension": ".py",
   "mimetype": "text/x-python",
   "name": "python",
   "nbconvert_exporter": "python",
   "pygments_lexer": "ipython3",
   "version": "3.10.0"
  }
 },
 "nbformat": 4,
 "nbformat_minor": 2
}
