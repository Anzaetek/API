{
 "cells": [
  {
   "cell_type": "code",
   "execution_count": 35,
   "metadata": {},
   "outputs": [
    {
     "name": "stdout",
     "output_type": "stream",
     "text": [
      "Requirement already satisfied: requests in /home/esoteric/anaconda3/envs/fujitsu/lib/python3.10/site-packages (2.31.0)\n",
      "Requirement already satisfied: charset-normalizer<4,>=2 in /home/esoteric/anaconda3/envs/fujitsu/lib/python3.10/site-packages (from requests) (3.2.0)\n",
      "Requirement already satisfied: idna<4,>=2.5 in /home/esoteric/anaconda3/envs/fujitsu/lib/python3.10/site-packages (from requests) (3.4)\n",
      "Requirement already satisfied: urllib3<3,>=1.21.1 in /home/esoteric/anaconda3/envs/fujitsu/lib/python3.10/site-packages (from requests) (2.0.3)\n",
      "Requirement already satisfied: certifi>=2017.4.17 in /home/esoteric/anaconda3/envs/fujitsu/lib/python3.10/site-packages (from requests) (2023.5.7)\n"
     ]
    }
   ],
   "source": [
    "import sys\n",
    "!{sys.executable} -m pip install requests"
   ]
  },
  {
   "cell_type": "code",
   "execution_count": 36,
   "metadata": {},
   "outputs": [],
   "source": [
    "# GET THE CONFIG\n",
    "import utils\n",
    "user1 = utils.getenvcached(\"QUETZALCOATL_USER1\")\n",
    "token1 = utils.getenvcached(\"QUETZALCOATL_TOKEN1\")"
   ]
  },
  {
   "cell_type": "code",
   "execution_count": 37,
   "metadata": {},
   "outputs": [],
   "source": [
    "code = \"\"\"\n",
    "let qubomatrix = [\n",
    "      [\n",
    "        -10.992680373440555,\n",
    "        3.1207718881750637,\n",
    "        1.5603859440875318,\n",
    "        1.5603831773087988,\n",
    "        3.1207663546175977,\n",
    "        1.5603831773087988\n",
    "      ],\n",
    "      [\n",
    "        3.1207718881750637,\n",
    "        -18.864588858706046,\n",
    "        3.1207718881750637,\n",
    "        3.1207663546175977,\n",
    "        6.241532709235195,\n",
    "        3.1207663546175977\n",
    "      ],\n",
    "      [\n",
    "        1.5603859440875318,\n",
    "        3.1207718881750637,\n",
    "        -10.992680373440555,\n",
    "        1.5603831773087988,\n",
    "        3.1207663546175977,\n",
    "        1.5603831773087988\n",
    "      ],\n",
    "      [\n",
    "        1.5603831773087988,\n",
    "        3.1207663546175977,\n",
    "        1.5603831773087988,\n",
    "        -10.992686168287307,\n",
    "        3.1207912043308967,\n",
    "        1.5603956021654484\n",
    "      ],\n",
    "      [\n",
    "        3.1207663546175977,\n",
    "        6.241532709235195,\n",
    "        3.1207663546175977,\n",
    "        3.1207912043308967,\n",
    "        -18.864581132243714,\n",
    "        3.1207912043308967\n",
    "      ],\n",
    "      [\n",
    "        1.5603831773087988,\n",
    "        3.1207663546175977,\n",
    "        1.5603831773087988,\n",
    "        1.5603956021654484,\n",
    "        3.1207912043308967,\n",
    "        -10.992686168287307\n",
    "      ]\n",
    "    ] in \n",
    "let num_qubits = 6 in \n",
    "let samples = 400 in \n",
    "let x0 = [0.5,0.5,0.5,0.5,0.5,0.5,0.5,0.5,0.5,0.5,0.5,0.5,0.5,0.5,0.5,0.5,0.5,0.5,0.5,0.5,0.5,0.5,0.5,0.5] in\n",
    "vqeQUBO(x0,qubomatrix,num_qubits,samples)\n",
    "\"\"\"\n",
    "\n",
    "context = {}"
   ]
  },
  {
   "cell_type": "code",
   "execution_count": 38,
   "metadata": {},
   "outputs": [],
   "source": [
    "import requests\n",
    "import json\n",
    "\n",
    "url = \"https://api2.anzaetek.com:443/execute\"\n",
    "\n",
    "def query24A(code, context):\n",
    "    q = {\"__class__\": \"Axolotl\", \n",
    "        \"query\": {\"operation\": \"execute\", \n",
    "                \"program\": code,\n",
    "                \"context\": context}, \n",
    "        \"user\": user1, \"token\": token1 }\n",
    "    query = {'user': user1, \n",
    "            'token': token1, \n",
    "            'query': json.dumps(q) }\n",
    "    post_response = requests.post(url = url, json=query)\n",
    "    rv = post_response.json()\n",
    "    #print(rv)\n",
    "    x = json.loads(rv)\n",
    "    return x"
   ]
  },
  {
   "cell_type": "code",
   "execution_count": 39,
   "metadata": {},
   "outputs": [
    {
     "name": "stdout",
     "output_type": "stream",
     "text": [
      "['010010', -25.24610457247937]\n"
     ]
    }
   ],
   "source": [
    "res = query24A(code, context)\n",
    "print(repr(res))"
   ]
  }
 ],
 "metadata": {
  "kernelspec": {
   "display_name": "fujitsu",
   "language": "python",
   "name": "python3"
  },
  "language_info": {
   "codemirror_mode": {
    "name": "ipython",
    "version": 3
   },
   "file_extension": ".py",
   "mimetype": "text/x-python",
   "name": "python",
   "nbconvert_exporter": "python",
   "pygments_lexer": "ipython3",
   "version": "3.10.0"
  }
 },
 "nbformat": 4,
 "nbformat_minor": 2
}
