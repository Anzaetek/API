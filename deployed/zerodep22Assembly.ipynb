{
 "cells": [
  {
   "cell_type": "code",
   "execution_count": 15,
   "metadata": {},
   "outputs": [
    {
     "name": "stdout",
     "output_type": "stream",
     "text": [
      "Requirement already satisfied: requests in /home/esoteric/anaconda3/envs/fujitsu/lib/python3.10/site-packages (2.31.0)\n",
      "Requirement already satisfied: charset-normalizer<4,>=2 in /home/esoteric/anaconda3/envs/fujitsu/lib/python3.10/site-packages (from requests) (3.2.0)\n",
      "Requirement already satisfied: idna<4,>=2.5 in /home/esoteric/anaconda3/envs/fujitsu/lib/python3.10/site-packages (from requests) (3.4)\n",
      "Requirement already satisfied: urllib3<3,>=1.21.1 in /home/esoteric/anaconda3/envs/fujitsu/lib/python3.10/site-packages (from requests) (2.0.3)\n",
      "Requirement already satisfied: certifi>=2017.4.17 in /home/esoteric/anaconda3/envs/fujitsu/lib/python3.10/site-packages (from requests) (2023.5.7)\n"
     ]
    }
   ],
   "source": [
    "import sys\n",
    "!{sys.executable} -m pip install requests"
   ]
  },
  {
   "cell_type": "code",
   "execution_count": 16,
   "metadata": {},
   "outputs": [],
   "source": [
    "# GET THE CONFIG\n",
    "import utils\n",
    "user1 = utils.getenvcached(\"QUETZALCOATL_USER1\")\n",
    "token1 = utils.getenvcached(\"QUETZALCOATL_TOKEN1\")"
   ]
  },
  {
   "cell_type": "code",
   "execution_count": 17,
   "metadata": {},
   "outputs": [],
   "source": [
    "circuit = \"\"\"\n",
    "OPENQASM 2.0;\n",
    "include \"qelib1.inc\";\n",
    "qreg q[8];\n",
    "creg c[8];\n",
    "rx(4.291410390018364) q[0];\n",
    "ry(4.291410390018364) q[0];\n",
    "rz(4.291410390018364) q[0];\n",
    "rx(4.75305282790762) q[1];\n",
    "ry(4.75305282790762) q[1];\n",
    "rz(4.75305282790762) q[1];\n",
    "rx(5.017046899019829) q[2];\n",
    "ry(5.017046899019829) q[2];\n",
    "rz(5.017046899019829) q[2];\n",
    "rx(5.586875682213167) q[3];\n",
    "ry(5.586875682213167) q[3];\n",
    "rz(5.586875682213167) q[3];\n",
    "rx(5.370948646748333) q[4];\n",
    "ry(5.370948646748333) q[4];\n",
    "rz(5.370948646748333) q[4];\n",
    "rx(4.383400696634489) q[5];\n",
    "ry(4.383400696634489) q[5];\n",
    "rz(4.383400696634489) q[5];\n",
    "rx(1.0040798048277215) q[6];\n",
    "ry(1.0040798048277215) q[6];\n",
    "rz(1.0040798048277215) q[6];\n",
    "rx(4.816347882071221) q[7];\n",
    "ry(4.816347882071221) q[7];\n",
    "rz(4.816347882071221) q[7];\n",
    "cz q[0],q[1];\n",
    "cz q[1],q[2];\n",
    "cz q[2],q[3];\n",
    "cz q[3],q[4];\n",
    "cz q[4],q[5];\n",
    "cz q[5],q[6];\n",
    "cz q[6],q[7];\n",
    "rx(0.6767931740293136) q[0];\n",
    "ry(0.6767931740293136) q[0];\n",
    "rz(0.6767931740293136) q[0];\n",
    "rx(6.245448590863338) q[1];\n",
    "ry(6.245448590863338) q[1];\n",
    "rz(6.245448590863338) q[1];\n",
    "rx(2.1306355034269515) q[2];\n",
    "ry(2.1306355034269515) q[2];\n",
    "rz(2.1306355034269515) q[2];\n",
    "rx(2.7255783980590667) q[3];\n",
    "ry(2.7255783980590667) q[3];\n",
    "rz(2.7255783980590667) q[3];\n",
    "rx(1.750832501632983) q[4];\n",
    "ry(1.750832501632983) q[4];\n",
    "rz(1.750832501632983) q[4];\n",
    "rx(0.1346639658807586) q[5];\n",
    "ry(0.1346639658807586) q[5];\n",
    "rz(0.1346639658807586) q[5];\n",
    "rx(3.978473802232576) q[6];\n",
    "ry(3.978473802232576) q[6];\n",
    "rz(3.978473802232576) q[6];\n",
    "rx(4.664170750737341) q[7];\n",
    "ry(4.664170750737341) q[7];\n",
    "rz(4.664170750737341) q[7];\n",
    "cz q[0],q[1];\n",
    "cz q[1],q[2];\n",
    "cz q[2],q[3];\n",
    "cz q[3],q[4];\n",
    "cz q[4],q[5];\n",
    "cz q[5],q[6];\n",
    "cz q[6],q[7];\n",
    "rx(3.4968206361109244) q[0];\n",
    "ry(3.4968206361109244) q[0];\n",
    "rz(3.4968206361109244) q[0];\n",
    "rx(0.3982901374070522) q[1];\n",
    "ry(0.3982901374070522) q[1];\n",
    "rz(0.3982901374070522) q[1];\n",
    "rx(5.801403824910094) q[2];\n",
    "ry(5.801403824910094) q[2];\n",
    "rz(5.801403824910094) q[2];\n",
    "rx(1.966614047420217) q[3];\n",
    "ry(1.966614047420217) q[3];\n",
    "rz(1.966614047420217) q[3];\n",
    "rx(2.542011335754404) q[4];\n",
    "ry(2.542011335754404) q[4];\n",
    "rz(2.542011335754404) q[4];\n",
    "rx(5.627844325594348) q[5];\n",
    "ry(5.627844325594348) q[5];\n",
    "rz(5.627844325594348) q[5];\n",
    "rx(4.434611341550521) q[6];\n",
    "ry(4.434611341550521) q[6];\n",
    "rz(4.434611341550521) q[6];\n",
    "rx(1.506855057004407) q[7];\n",
    "ry(1.506855057004407) q[7];\n",
    "rz(1.506855057004407) q[7];\n",
    "cz q[0],q[1];\n",
    "cz q[1],q[2];\n",
    "cz q[2],q[3];\n",
    "cz q[3],q[4];\n",
    "cz q[4],q[5];\n",
    "cz q[5],q[6];\n",
    "cz q[6],q[7];\n",
    "measure q[0] -> c[0];\n",
    "measure q[1] -> c[1];\n",
    "measure q[2] -> c[2];\n",
    "measure q[3] -> c[3];\n",
    "measure q[4] -> c[4];\n",
    "measure q[5] -> c[5];\n",
    "measure q[6] -> c[6];\n",
    "measure q[7] -> c[7];\n",
    "\"\"\""
   ]
  },
  {
   "cell_type": "code",
   "execution_count": 18,
   "metadata": {},
   "outputs": [],
   "source": [
    "executor = \"qiskit\"\n",
    "nqubits = 8\n",
    "config = {}\n",
    "nshots = 1024"
   ]
  },
  {
   "cell_type": "code",
   "execution_count": 19,
   "metadata": {},
   "outputs": [],
   "source": [
    "import requests\n",
    "import json\n",
    "\n",
    "url = \"https://api2.anzaetek.com:443/execute\"\n",
    "\n",
    "def query22(executor, nqubits, config, nshots, circuit):\n",
    "    q = {\"__class__\": \"Assembly\", \n",
    "        \"nqubits\": nqubits, \n",
    "        \"executor\": executor, \n",
    "        \"config\": config, \n",
    "        \"circuit\": circuit, \n",
    "        \"nshots\": nshots, \n",
    "        \"user\": user1, \n",
    "        \"token\": token1}\n",
    "    query = {\n",
    "        'user': user1, \n",
    "        'token': token1, \n",
    "        'query': json.dumps(q)}\n",
    "\n",
    "    post_response = requests.post(url = url, json=query)\n",
    "    rv = post_response.json()\n",
    "    #print(rv)\n",
    "    return json.loads(rv)"
   ]
  },
  {
   "cell_type": "code",
   "execution_count": 20,
   "metadata": {},
   "outputs": [
    {
     "name": "stdout",
     "output_type": "stream",
     "text": [
      "{'samples': {'10111101': 7, '11010010': 46, '01001100': 1, '01011111': 1, '11101101': 4, '01110100': 4, '10100010': 3, '00110101': 17, '11110101': 5, '11010000': 3, '11010001': 6, '11111010': 3, '00101101': 9, '11110010': 25, '00001010': 9, '00010101': 13, '00101010': 27, '11111101': 18, '11011100': 16, '00111001': 9, '10100101': 5, '10001101': 1, '01100101': 7, '10010101': 20, '10011100': 13, '00101001': 2, '10010010': 63, '00100010': 19, '00001110': 6, '11011010': 12, '01010010': 6, '01111100': 2, '10011101': 17, '00110010': 33, '00110110': 9, '00111100': 4, '01010101': 2, '10110010': 17, '01110110': 4, '00100101': 21, '10101110': 2, '01111000': 6, '01111010': 10, '11010011': 10, '11011110': 10, '11001010': 12, '10010111': 3, '00110111': 2, '01111110': 8, '11010101': 20, '11001110': 8, '00010010': 18, '00111000': 3, '00011011': 3, '00111010': 20, '11000100': 2, '00000101': 5, '10110100': 3, '11010100': 7, '11011111': 1, '00100001': 6, '11111100': 8, '01110001': 2, '01101010': 13, '11011101': 25, '10010000': 4, '00000111': 1, '01111001': 8, '00111101': 32, '00011101': 4, '11101010': 3, '10010001': 3, '11100101': 6, '01001010': 5, '00100100': 9, '10001110': 5, '11110100': 2, '11100001': 2, '11101000': 2, '10010110': 1, '00011110': 3, '10101101': 2, '11000101': 12, '10011111': 1, '01010100': 3, '00011010': 12, '00010100': 2, '10110000': 1, '00110100': 12, '10101010': 4, '11110110': 5, '00011000': 3, '01001101': 3, '01100100': 7, '11000110': 1, '01110101': 2, '11100010': 9, '01101011': 2, '10000001': 5, '00011100': 4, '11000010': 4, '11000001': 1, '11100000': 1, '11110000': 1, '00111011': 6, '00010110': 3, '11011001': 4, '11110001': 6, '10011010': 3, '10111010': 3, '10010100': 2, '01000010': 1, '11101110': 4, '01100010': 4, '10010011': 4, '10011000': 1, '11110011': 3, '00011001': 5, '01000001': 1, '10000101': 5, '10011001': 3, '00110001': 4, '00101011': 3, '01101001': 1, '10110011': 2, '01111011': 2, '10011110': 2, '11010111': 2, '10101100': 1, '11001011': 2, '11001001': 1, '11001000': 1, '10100100': 2, '01010110': 2, '00010001': 1, '10001010': 4, '01011101': 1, '10110101': 4, '11110111': 1, '00111110': 3, '10000000': 2, '10100110': 1, '01000101': 2, '00101111': 1, '01001011': 1, '10100111': 1, '10000010': 2, '00001011': 2, '00000100': 3, '11000111': 1, '00101000': 1, '11111111': 2, '00100111': 3, '00001111': 1, '11111011': 1, '01101000': 2, '00101100': 1, '01000100': 1, '01011100': 2, '00100011': 1, '10000110': 1, '10111001': 1, '00010000': 1, '10011011': 1, '11100111': 1, '00111111': 2, '01000110': 1, '01110010': 1, '10111011': 1, '11011000': 1, '10100001': 1, '01100111': 1}}\n"
     ]
    }
   ],
   "source": [
    "res = query22(executor, nqubits, config, nshots, circuit)\n",
    "print(repr(res))"
   ]
  },
  {
   "cell_type": "code",
   "execution_count": null,
   "metadata": {},
   "outputs": [],
   "source": [
    "executor = \"circ\"\n",
    "res = query22(executor, nqubits, config, nshots, circuit)\n",
    "print(repr(res))"
   ]
  },
  {
   "cell_type": "code",
   "execution_count": null,
   "metadata": {},
   "outputs": [],
   "source": [
    "executor = \"qadence\"\n",
    "res = query22(executor, nqubits, config, nshots, circuit)\n",
    "print(repr(res))"
   ]
  },
  {
   "cell_type": "code",
   "execution_count": null,
   "metadata": {},
   "outputs": [],
   "source": [
    "executor = \"spinqit\"\n",
    "res = query22(executor, nqubits, config, nshots, circuit)\n",
    "print(repr(res))"
   ]
  }
 ],
 "metadata": {
  "kernelspec": {
   "display_name": "fujitsu",
   "language": "python",
   "name": "python3"
  },
  "language_info": {
   "codemirror_mode": {
    "name": "ipython",
    "version": 3
   },
   "file_extension": ".py",
   "mimetype": "text/x-python",
   "name": "python",
   "nbconvert_exporter": "python",
   "pygments_lexer": "ipython3",
   "version": "3.10.0"
  }
 },
 "nbformat": 4,
 "nbformat_minor": 2
}
